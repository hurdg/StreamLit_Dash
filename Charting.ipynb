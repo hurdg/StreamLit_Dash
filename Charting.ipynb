{
 "cells": [
  {
   "cell_type": "markdown",
   "metadata": {},
   "source": [
    "# SEC built functions"
   ]
  },
  {
   "cell_type": "code",
   "execution_count": 247,
   "metadata": {},
   "outputs": [
    {
     "data": {
      "text/plain": [
       "'0000101295'"
      ]
     },
     "execution_count": 247,
     "metadata": {},
     "output_type": "execute_result"
    }
   ],
   "source": [
    "import requests\n",
    "import json\n",
    "import pandas as pd\n",
    "from secedgar import CompanyFilings, FilingType\n",
    "import streamlit as st\n",
    "import plotly.express as px\n",
    "import matplotlib.pyplot as plt\n",
    "import plotly.graph_objects as go\n",
    "import plotly.subplots as pls\n",
    "\n",
    "import datetime as dt\n",
    "\n",
    "\n",
    "header = {'User-Agent':'gavinhurd11@gmail.com'}\n",
    "tickers_cik = requests.get('https://www.sec.gov/files/company_tickers.json', headers = header)\n",
    "tickers_cik = pd.json_normalize(pd.json_normalize(tickers_cik.json(), max_level=0).values[0])\n",
    "tickers_cik['cik_str']=tickers_cik['cik_str'].astype(str).str.zfill(10)\n",
    "\n",
    "\n",
    "selected_ticker = 'UG'\n",
    "cik_str = tickers_cik['cik_str'][tickers_cik['ticker'] == selected_ticker].values[0]\n",
    "cik_str"
   ]
  },
  {
   "cell_type": "code",
   "execution_count": 71,
   "metadata": {},
   "outputs": [],
   "source": [
    "#Company data\n",
    "def EDGAR_query(cik:str, header:dict, tag:list=None)->pd.DataFrame:\n",
    "    url = 'https://data.sec.gov/api/xbrl/companyfacts/CIK'+cik+'.json'\n",
    "    response = requests.get(url, headers=header)\n",
    "\n",
    "    try:\n",
    "        if tag == None:\n",
    "            tags = list(response.json()['facts']['us-gaap'].keys())\n",
    "        else:\n",
    "            tags=tag\n",
    "        \n",
    "        company_data = pd.DataFrame()\n",
    "\n",
    "\n",
    "        for i in range(len(tags)):\n",
    "            try:\n",
    "                tag = tags[i]\n",
    "                units = list(response.json()['facts']['us-gaap'][tag]['units'].keys())[0]\n",
    "                data = pd.json_normalize(response.json()['facts']['us-gaap'][tag]['units'][units])\n",
    "                data['tag']=tag\n",
    "                data['units']=units\n",
    "                company_data = pd.concat([company_data, data], ignore_index=True)\n",
    "            except:\n",
    "                print(tag+'not found')\n",
    "    except:print('company data not found')\n",
    "    return company_data"
   ]
  },
  {
   "cell_type": "code",
   "execution_count": 213,
   "metadata": {},
   "outputs": [],
   "source": [
    "df = EDGAR_query(cik_str, header = header)"
   ]
  },
  {
   "cell_type": "code",
   "execution_count": 214,
   "metadata": {},
   "outputs": [],
   "source": [
    "raw_tags = df['tag'][df['tag'].str.contains('rawmaterials', case = False)].unique()\n",
    "raw_tag = min(raw_tags, key=len)\n",
    "\n",
    "wip_tags = df['tag'][df['tag'].str.contains('workinprocess', case = False)].unique()\n",
    "wip_tag = min(wip_tags, key=len)\n",
    "\n",
    "fin_tags = df['tag'][df['tag'].str.contains('FinishedGoods', case = False)].unique()\n",
    "fin_tag = min(fin_tags, key=len)\n",
    "\n",
    "inc_tags = df['tag'][df['tag'].str.contains('netincome', case = False)].unique()\n",
    "inc_tag = min(inc_tags, key=len)"
   ]
  },
  {
   "cell_type": "code",
   "execution_count": 343,
   "metadata": {},
   "outputs": [
    {
     "name": "stderr",
     "output_type": "stream",
     "text": [
      "C:\\Users\\hurdg\\AppData\\Local\\Temp\\ipykernel_27360\\3471304213.py:3: SettingWithCopyWarning:\n",
      "\n",
      "\n",
      "A value is trying to be set on a copy of a slice from a DataFrame.\n",
      "Try using .loc[row_indexer,col_indexer] = value instead\n",
      "\n",
      "See the caveats in the documentation: https://pandas.pydata.org/pandas-docs/stable/user_guide/indexing.html#returning-a-view-versus-a-copy\n",
      "\n"
     ]
    }
   ],
   "source": [
    "\n",
    "#Subset by desired data\n",
    "df_inventory = df[df['tag'].str.contains('inventory|netincome', case = False)]\n",
    "df_inventory[[\"start\", 'end']] = df_inventory[[\"start\", 'end']].apply(pd.to_datetime, errors='coerce')\n",
    "df_inventory = df_inventory[df_inventory['frame'].notna() & df_inventory['frame'].notnull()]\n",
    "df_inventory.sort_values(by='end', inplace = True) \n",
    "df_inventory.reset_index(inplace = True)"
   ]
  },
  {
   "cell_type": "code",
   "execution_count": 344,
   "metadata": {},
   "outputs": [
    {
     "name": "stderr",
     "output_type": "stream",
     "text": [
      "C:\\Users\\hurdg\\AppData\\Local\\Temp\\ipykernel_27360\\3435765134.py:16: FutureWarning:\n",
      "\n",
      "ChainedAssignmentError: behaviour will change in pandas 3.0!\n",
      "You are setting values through chained assignment. Currently this works in certain cases, but when using Copy-on-Write (which will become the default behaviour in pandas 3.0) this will never work to update the original DataFrame or Series, because the intermediate object on which we are setting values will behave as a copy.\n",
      "A typical example is when you are setting values in a column of a DataFrame, like:\n",
      "\n",
      "df[\"col\"][row_indexer] = value\n",
      "\n",
      "Use `df.loc[row_indexer, \"col\"] = values` instead, to perform the assignment in a single step and ensure this keeps updating the original `df`.\n",
      "\n",
      "See the caveats in the documentation: https://pandas.pydata.org/pandas-docs/stable/user_guide/indexing.html#returning-a-view-versus-a-copy\n",
      "\n",
      "\n",
      "C:\\Users\\hurdg\\AppData\\Local\\Temp\\ipykernel_27360\\3435765134.py:16: SettingWithCopyWarning:\n",
      "\n",
      "\n",
      "A value is trying to be set on a copy of a slice from a DataFrame\n",
      "\n",
      "See the caveats in the documentation: https://pandas.pydata.org/pandas-docs/stable/user_guide/indexing.html#returning-a-view-versus-a-copy\n",
      "\n",
      "C:\\Users\\hurdg\\AppData\\Local\\Temp\\ipykernel_27360\\3435765134.py:16: FutureWarning:\n",
      "\n",
      "ChainedAssignmentError: behaviour will change in pandas 3.0!\n",
      "You are setting values through chained assignment. Currently this works in certain cases, but when using Copy-on-Write (which will become the default behaviour in pandas 3.0) this will never work to update the original DataFrame or Series, because the intermediate object on which we are setting values will behave as a copy.\n",
      "A typical example is when you are setting values in a column of a DataFrame, like:\n",
      "\n",
      "df[\"col\"][row_indexer] = value\n",
      "\n",
      "Use `df.loc[row_indexer, \"col\"] = values` instead, to perform the assignment in a single step and ensure this keeps updating the original `df`.\n",
      "\n",
      "See the caveats in the documentation: https://pandas.pydata.org/pandas-docs/stable/user_guide/indexing.html#returning-a-view-versus-a-copy\n",
      "\n",
      "\n",
      "C:\\Users\\hurdg\\AppData\\Local\\Temp\\ipykernel_27360\\3435765134.py:16: SettingWithCopyWarning:\n",
      "\n",
      "\n",
      "A value is trying to be set on a copy of a slice from a DataFrame\n",
      "\n",
      "See the caveats in the documentation: https://pandas.pydata.org/pandas-docs/stable/user_guide/indexing.html#returning-a-view-versus-a-copy\n",
      "\n",
      "C:\\Users\\hurdg\\AppData\\Local\\Temp\\ipykernel_27360\\3435765134.py:16: FutureWarning:\n",
      "\n",
      "ChainedAssignmentError: behaviour will change in pandas 3.0!\n",
      "You are setting values through chained assignment. Currently this works in certain cases, but when using Copy-on-Write (which will become the default behaviour in pandas 3.0) this will never work to update the original DataFrame or Series, because the intermediate object on which we are setting values will behave as a copy.\n",
      "A typical example is when you are setting values in a column of a DataFrame, like:\n",
      "\n",
      "df[\"col\"][row_indexer] = value\n",
      "\n",
      "Use `df.loc[row_indexer, \"col\"] = values` instead, to perform the assignment in a single step and ensure this keeps updating the original `df`.\n",
      "\n",
      "See the caveats in the documentation: https://pandas.pydata.org/pandas-docs/stable/user_guide/indexing.html#returning-a-view-versus-a-copy\n",
      "\n",
      "\n",
      "C:\\Users\\hurdg\\AppData\\Local\\Temp\\ipykernel_27360\\3435765134.py:16: SettingWithCopyWarning:\n",
      "\n",
      "\n",
      "A value is trying to be set on a copy of a slice from a DataFrame\n",
      "\n",
      "See the caveats in the documentation: https://pandas.pydata.org/pandas-docs/stable/user_guide/indexing.html#returning-a-view-versus-a-copy\n",
      "\n",
      "C:\\Users\\hurdg\\AppData\\Local\\Temp\\ipykernel_27360\\3435765134.py:16: FutureWarning:\n",
      "\n",
      "ChainedAssignmentError: behaviour will change in pandas 3.0!\n",
      "You are setting values through chained assignment. Currently this works in certain cases, but when using Copy-on-Write (which will become the default behaviour in pandas 3.0) this will never work to update the original DataFrame or Series, because the intermediate object on which we are setting values will behave as a copy.\n",
      "A typical example is when you are setting values in a column of a DataFrame, like:\n",
      "\n",
      "df[\"col\"][row_indexer] = value\n",
      "\n",
      "Use `df.loc[row_indexer, \"col\"] = values` instead, to perform the assignment in a single step and ensure this keeps updating the original `df`.\n",
      "\n",
      "See the caveats in the documentation: https://pandas.pydata.org/pandas-docs/stable/user_guide/indexing.html#returning-a-view-versus-a-copy\n",
      "\n",
      "\n",
      "C:\\Users\\hurdg\\AppData\\Local\\Temp\\ipykernel_27360\\3435765134.py:16: SettingWithCopyWarning:\n",
      "\n",
      "\n",
      "A value is trying to be set on a copy of a slice from a DataFrame\n",
      "\n",
      "See the caveats in the documentation: https://pandas.pydata.org/pandas-docs/stable/user_guide/indexing.html#returning-a-view-versus-a-copy\n",
      "\n",
      "C:\\Users\\hurdg\\AppData\\Local\\Temp\\ipykernel_27360\\3435765134.py:16: FutureWarning:\n",
      "\n",
      "ChainedAssignmentError: behaviour will change in pandas 3.0!\n",
      "You are setting values through chained assignment. Currently this works in certain cases, but when using Copy-on-Write (which will become the default behaviour in pandas 3.0) this will never work to update the original DataFrame or Series, because the intermediate object on which we are setting values will behave as a copy.\n",
      "A typical example is when you are setting values in a column of a DataFrame, like:\n",
      "\n",
      "df[\"col\"][row_indexer] = value\n",
      "\n",
      "Use `df.loc[row_indexer, \"col\"] = values` instead, to perform the assignment in a single step and ensure this keeps updating the original `df`.\n",
      "\n",
      "See the caveats in the documentation: https://pandas.pydata.org/pandas-docs/stable/user_guide/indexing.html#returning-a-view-versus-a-copy\n",
      "\n",
      "\n",
      "C:\\Users\\hurdg\\AppData\\Local\\Temp\\ipykernel_27360\\3435765134.py:16: SettingWithCopyWarning:\n",
      "\n",
      "\n",
      "A value is trying to be set on a copy of a slice from a DataFrame\n",
      "\n",
      "See the caveats in the documentation: https://pandas.pydata.org/pandas-docs/stable/user_guide/indexing.html#returning-a-view-versus-a-copy\n",
      "\n",
      "C:\\Users\\hurdg\\AppData\\Local\\Temp\\ipykernel_27360\\3435765134.py:16: FutureWarning:\n",
      "\n",
      "ChainedAssignmentError: behaviour will change in pandas 3.0!\n",
      "You are setting values through chained assignment. Currently this works in certain cases, but when using Copy-on-Write (which will become the default behaviour in pandas 3.0) this will never work to update the original DataFrame or Series, because the intermediate object on which we are setting values will behave as a copy.\n",
      "A typical example is when you are setting values in a column of a DataFrame, like:\n",
      "\n",
      "df[\"col\"][row_indexer] = value\n",
      "\n",
      "Use `df.loc[row_indexer, \"col\"] = values` instead, to perform the assignment in a single step and ensure this keeps updating the original `df`.\n",
      "\n",
      "See the caveats in the documentation: https://pandas.pydata.org/pandas-docs/stable/user_guide/indexing.html#returning-a-view-versus-a-copy\n",
      "\n",
      "\n",
      "C:\\Users\\hurdg\\AppData\\Local\\Temp\\ipykernel_27360\\3435765134.py:16: SettingWithCopyWarning:\n",
      "\n",
      "\n",
      "A value is trying to be set on a copy of a slice from a DataFrame\n",
      "\n",
      "See the caveats in the documentation: https://pandas.pydata.org/pandas-docs/stable/user_guide/indexing.html#returning-a-view-versus-a-copy\n",
      "\n",
      "C:\\Users\\hurdg\\AppData\\Local\\Temp\\ipykernel_27360\\3435765134.py:16: FutureWarning:\n",
      "\n",
      "ChainedAssignmentError: behaviour will change in pandas 3.0!\n",
      "You are setting values through chained assignment. Currently this works in certain cases, but when using Copy-on-Write (which will become the default behaviour in pandas 3.0) this will never work to update the original DataFrame or Series, because the intermediate object on which we are setting values will behave as a copy.\n",
      "A typical example is when you are setting values in a column of a DataFrame, like:\n",
      "\n",
      "df[\"col\"][row_indexer] = value\n",
      "\n",
      "Use `df.loc[row_indexer, \"col\"] = values` instead, to perform the assignment in a single step and ensure this keeps updating the original `df`.\n",
      "\n",
      "See the caveats in the documentation: https://pandas.pydata.org/pandas-docs/stable/user_guide/indexing.html#returning-a-view-versus-a-copy\n",
      "\n",
      "\n",
      "C:\\Users\\hurdg\\AppData\\Local\\Temp\\ipykernel_27360\\3435765134.py:16: SettingWithCopyWarning:\n",
      "\n",
      "\n",
      "A value is trying to be set on a copy of a slice from a DataFrame\n",
      "\n",
      "See the caveats in the documentation: https://pandas.pydata.org/pandas-docs/stable/user_guide/indexing.html#returning-a-view-versus-a-copy\n",
      "\n",
      "C:\\Users\\hurdg\\AppData\\Local\\Temp\\ipykernel_27360\\3435765134.py:16: FutureWarning:\n",
      "\n",
      "ChainedAssignmentError: behaviour will change in pandas 3.0!\n",
      "You are setting values through chained assignment. Currently this works in certain cases, but when using Copy-on-Write (which will become the default behaviour in pandas 3.0) this will never work to update the original DataFrame or Series, because the intermediate object on which we are setting values will behave as a copy.\n",
      "A typical example is when you are setting values in a column of a DataFrame, like:\n",
      "\n",
      "df[\"col\"][row_indexer] = value\n",
      "\n",
      "Use `df.loc[row_indexer, \"col\"] = values` instead, to perform the assignment in a single step and ensure this keeps updating the original `df`.\n",
      "\n",
      "See the caveats in the documentation: https://pandas.pydata.org/pandas-docs/stable/user_guide/indexing.html#returning-a-view-versus-a-copy\n",
      "\n",
      "\n",
      "C:\\Users\\hurdg\\AppData\\Local\\Temp\\ipykernel_27360\\3435765134.py:16: SettingWithCopyWarning:\n",
      "\n",
      "\n",
      "A value is trying to be set on a copy of a slice from a DataFrame\n",
      "\n",
      "See the caveats in the documentation: https://pandas.pydata.org/pandas-docs/stable/user_guide/indexing.html#returning-a-view-versus-a-copy\n",
      "\n",
      "C:\\Users\\hurdg\\AppData\\Local\\Temp\\ipykernel_27360\\3435765134.py:16: FutureWarning:\n",
      "\n",
      "ChainedAssignmentError: behaviour will change in pandas 3.0!\n",
      "You are setting values through chained assignment. Currently this works in certain cases, but when using Copy-on-Write (which will become the default behaviour in pandas 3.0) this will never work to update the original DataFrame or Series, because the intermediate object on which we are setting values will behave as a copy.\n",
      "A typical example is when you are setting values in a column of a DataFrame, like:\n",
      "\n",
      "df[\"col\"][row_indexer] = value\n",
      "\n",
      "Use `df.loc[row_indexer, \"col\"] = values` instead, to perform the assignment in a single step and ensure this keeps updating the original `df`.\n",
      "\n",
      "See the caveats in the documentation: https://pandas.pydata.org/pandas-docs/stable/user_guide/indexing.html#returning-a-view-versus-a-copy\n",
      "\n",
      "\n",
      "C:\\Users\\hurdg\\AppData\\Local\\Temp\\ipykernel_27360\\3435765134.py:16: SettingWithCopyWarning:\n",
      "\n",
      "\n",
      "A value is trying to be set on a copy of a slice from a DataFrame\n",
      "\n",
      "See the caveats in the documentation: https://pandas.pydata.org/pandas-docs/stable/user_guide/indexing.html#returning-a-view-versus-a-copy\n",
      "\n",
      "C:\\Users\\hurdg\\AppData\\Local\\Temp\\ipykernel_27360\\3435765134.py:16: FutureWarning:\n",
      "\n",
      "ChainedAssignmentError: behaviour will change in pandas 3.0!\n",
      "You are setting values through chained assignment. Currently this works in certain cases, but when using Copy-on-Write (which will become the default behaviour in pandas 3.0) this will never work to update the original DataFrame or Series, because the intermediate object on which we are setting values will behave as a copy.\n",
      "A typical example is when you are setting values in a column of a DataFrame, like:\n",
      "\n",
      "df[\"col\"][row_indexer] = value\n",
      "\n",
      "Use `df.loc[row_indexer, \"col\"] = values` instead, to perform the assignment in a single step and ensure this keeps updating the original `df`.\n",
      "\n",
      "See the caveats in the documentation: https://pandas.pydata.org/pandas-docs/stable/user_guide/indexing.html#returning-a-view-versus-a-copy\n",
      "\n",
      "\n",
      "C:\\Users\\hurdg\\AppData\\Local\\Temp\\ipykernel_27360\\3435765134.py:16: SettingWithCopyWarning:\n",
      "\n",
      "\n",
      "A value is trying to be set on a copy of a slice from a DataFrame\n",
      "\n",
      "See the caveats in the documentation: https://pandas.pydata.org/pandas-docs/stable/user_guide/indexing.html#returning-a-view-versus-a-copy\n",
      "\n",
      "C:\\Users\\hurdg\\AppData\\Local\\Temp\\ipykernel_27360\\3435765134.py:16: FutureWarning:\n",
      "\n",
      "ChainedAssignmentError: behaviour will change in pandas 3.0!\n",
      "You are setting values through chained assignment. Currently this works in certain cases, but when using Copy-on-Write (which will become the default behaviour in pandas 3.0) this will never work to update the original DataFrame or Series, because the intermediate object on which we are setting values will behave as a copy.\n",
      "A typical example is when you are setting values in a column of a DataFrame, like:\n",
      "\n",
      "df[\"col\"][row_indexer] = value\n",
      "\n",
      "Use `df.loc[row_indexer, \"col\"] = values` instead, to perform the assignment in a single step and ensure this keeps updating the original `df`.\n",
      "\n",
      "See the caveats in the documentation: https://pandas.pydata.org/pandas-docs/stable/user_guide/indexing.html#returning-a-view-versus-a-copy\n",
      "\n",
      "\n",
      "C:\\Users\\hurdg\\AppData\\Local\\Temp\\ipykernel_27360\\3435765134.py:16: SettingWithCopyWarning:\n",
      "\n",
      "\n",
      "A value is trying to be set on a copy of a slice from a DataFrame\n",
      "\n",
      "See the caveats in the documentation: https://pandas.pydata.org/pandas-docs/stable/user_guide/indexing.html#returning-a-view-versus-a-copy\n",
      "\n",
      "C:\\Users\\hurdg\\AppData\\Local\\Temp\\ipykernel_27360\\3435765134.py:16: FutureWarning:\n",
      "\n",
      "ChainedAssignmentError: behaviour will change in pandas 3.0!\n",
      "You are setting values through chained assignment. Currently this works in certain cases, but when using Copy-on-Write (which will become the default behaviour in pandas 3.0) this will never work to update the original DataFrame or Series, because the intermediate object on which we are setting values will behave as a copy.\n",
      "A typical example is when you are setting values in a column of a DataFrame, like:\n",
      "\n",
      "df[\"col\"][row_indexer] = value\n",
      "\n",
      "Use `df.loc[row_indexer, \"col\"] = values` instead, to perform the assignment in a single step and ensure this keeps updating the original `df`.\n",
      "\n",
      "See the caveats in the documentation: https://pandas.pydata.org/pandas-docs/stable/user_guide/indexing.html#returning-a-view-versus-a-copy\n",
      "\n",
      "\n",
      "C:\\Users\\hurdg\\AppData\\Local\\Temp\\ipykernel_27360\\3435765134.py:16: SettingWithCopyWarning:\n",
      "\n",
      "\n",
      "A value is trying to be set on a copy of a slice from a DataFrame\n",
      "\n",
      "See the caveats in the documentation: https://pandas.pydata.org/pandas-docs/stable/user_guide/indexing.html#returning-a-view-versus-a-copy\n",
      "\n",
      "C:\\Users\\hurdg\\AppData\\Local\\Temp\\ipykernel_27360\\3435765134.py:16: FutureWarning:\n",
      "\n",
      "ChainedAssignmentError: behaviour will change in pandas 3.0!\n",
      "You are setting values through chained assignment. Currently this works in certain cases, but when using Copy-on-Write (which will become the default behaviour in pandas 3.0) this will never work to update the original DataFrame or Series, because the intermediate object on which we are setting values will behave as a copy.\n",
      "A typical example is when you are setting values in a column of a DataFrame, like:\n",
      "\n",
      "df[\"col\"][row_indexer] = value\n",
      "\n",
      "Use `df.loc[row_indexer, \"col\"] = values` instead, to perform the assignment in a single step and ensure this keeps updating the original `df`.\n",
      "\n",
      "See the caveats in the documentation: https://pandas.pydata.org/pandas-docs/stable/user_guide/indexing.html#returning-a-view-versus-a-copy\n",
      "\n",
      "\n",
      "C:\\Users\\hurdg\\AppData\\Local\\Temp\\ipykernel_27360\\3435765134.py:16: SettingWithCopyWarning:\n",
      "\n",
      "\n",
      "A value is trying to be set on a copy of a slice from a DataFrame\n",
      "\n",
      "See the caveats in the documentation: https://pandas.pydata.org/pandas-docs/stable/user_guide/indexing.html#returning-a-view-versus-a-copy\n",
      "\n"
     ]
    }
   ],
   "source": [
    "inc_index = df_inventory[df_inventory['tag'] == inc_tag].index\n",
    "delta = df_inventory.iloc[inc_index]['end'] - df_inventory.iloc[inc_index]['start']\n",
    "annual_index = delta > dt.timedelta(345)\n",
    "\n",
    "\n",
    "for i in inc_index[annual_index]:\n",
    "    infile =  df_inventory.iloc[i]\n",
    "    k_val = infile['val']\n",
    "    k_enddate = infile['end']\n",
    "    k_startdate = infile['start']\n",
    "\n",
    "    quartervals = (df_inventory['val'].iloc[inc_index][(df_inventory['start'] >= k_startdate) & #Within time period defined by 10-k \n",
    "                                                         (df_inventory['end'] <= k_enddate) &\n",
    "                                                         ((df_inventory['end'] - df_inventory['start']) < dt.timedelta(200))]) #Exclude the 10-k vlaue\n",
    "    new_val = k_val - sum(quartervals)\n",
    "    df_inventory['val'].iloc[i] = new_val"
   ]
  },
  {
   "cell_type": "code",
   "execution_count": 334,
   "metadata": {},
   "outputs": [],
   "source": [
    "raw_tags = df_inventory['tag'][df_inventory['tag'].str.contains('rawmaterials', case = False)].unique()\n",
    "raw_tag = min(raw_tags, key=len)\n",
    "\n",
    "wip_tags = df_inventory['tag'][df_inventory['tag'].str.contains('workinprocess', case = False)].unique()\n",
    "wip_tag = min(wip_tags, key=len)\n",
    "\n",
    "fin_tags = df_inventory['tag'][df_inventory['tag'].str.contains('FinishedGoods', case = False)].unique()\n",
    "fin_tag = min(fin_tags, key=len)\n",
    "\n",
    "inc_tags = df_inventory['tag'][df_inventory['tag'].str.contains('netincome', case = False)].unique()\n",
    "inc_tag = min(inc_tags, key=len)"
   ]
  },
  {
   "cell_type": "code",
   "execution_count": 345,
   "metadata": {},
   "outputs": [],
   "source": [
    "chart_df = df_inventory[df_inventory['tag'].isin([raw_tag, wip_tag, fin_tag, inc_tag])][['end','val','tag']]\n",
    "chart_df.drop_duplicates(inplace = True)"
   ]
  },
  {
   "cell_type": "code",
   "execution_count": 346,
   "metadata": {},
   "outputs": [
    {
     "name": "stderr",
     "output_type": "stream",
     "text": [
      "c:\\Users\\hurdg\\Documents\\Investments\\StreamLit_Dash\\.venv\\Lib\\site-packages\\plotly\\graph_objs\\_deprecations.py:378: DeprecationWarning:\n",
      "\n",
      "plotly.graph_objs.Line is deprecated.\n",
      "Please replace it with one of the following more specific types\n",
      "  - plotly.graph_objs.scatter.Line\n",
      "  - plotly.graph_objs.layout.shape.Line\n",
      "  - etc.\n",
      "\n",
      "\n"
     ]
    },
    {
     "data": {
      "application/vnd.plotly.v1+json": {
       "config": {
        "plotlyServerURL": "https://plot.ly"
       },
       "data": [
        {
         "legendgroup": "group",
         "legendgrouptitle": {
          "text": "method one"
         },
         "marker": {
          "color": "forestgreen"
         },
         "name": "Raw Materials",
         "type": "bar",
         "x": [
          "2015-12-31T00:00:00",
          "2016-03-31T00:00:00",
          "2016-06-30T00:00:00",
          "2016-09-30T00:00:00",
          "2016-12-31T00:00:00",
          "2017-03-31T00:00:00",
          "2017-06-30T00:00:00",
          "2017-09-30T00:00:00",
          "2017-12-31T00:00:00",
          "2018-03-31T00:00:00",
          "2018-06-30T00:00:00",
          "2018-09-30T00:00:00",
          "2018-12-31T00:00:00",
          "2019-03-31T00:00:00",
          "2019-06-30T00:00:00",
          "2019-09-30T00:00:00",
          "2019-12-31T00:00:00",
          "2020-03-31T00:00:00",
          "2020-06-30T00:00:00",
          "2020-09-30T00:00:00",
          "2020-12-31T00:00:00",
          "2021-03-31T00:00:00",
          "2021-06-30T00:00:00",
          "2021-09-30T00:00:00",
          "2021-12-31T00:00:00",
          "2022-03-31T00:00:00",
          "2022-06-30T00:00:00",
          "2022-09-30T00:00:00",
          "2022-12-31T00:00:00",
          "2023-03-31T00:00:00"
         ],
         "xaxis": "x",
         "y": [
          334320,
          307312,
          329438,
          339132,
          349383,
          329162,
          351981,
          333154,
          363739,
          538352,
          404394,
          378232,
          467842,
          390743,
          416629,
          398560,
          320507,
          413450,
          468649,
          459801,
          415415,
          376963,
          408594,
          434178,
          494348,
          639385,
          582458,
          752340,
          601125,
          530796
         ],
         "yaxis": "y"
        },
        {
         "legendgroup": "group",
         "legendgrouptitle": {
          "text": "method one"
         },
         "marker": {
          "color": "goldenrod"
         },
         "name": "Work In Process",
         "type": "bar",
         "x": [
          "2015-12-31T00:00:00",
          "2016-03-31T00:00:00",
          "2016-06-30T00:00:00",
          "2016-09-30T00:00:00",
          "2016-12-31T00:00:00",
          "2017-03-31T00:00:00",
          "2017-06-30T00:00:00",
          "2017-09-30T00:00:00",
          "2017-12-31T00:00:00",
          "2018-03-31T00:00:00",
          "2018-06-30T00:00:00",
          "2018-09-30T00:00:00",
          "2018-12-31T00:00:00",
          "2019-03-31T00:00:00",
          "2019-06-30T00:00:00",
          "2019-09-30T00:00:00",
          "2019-12-31T00:00:00",
          "2020-03-31T00:00:00",
          "2020-06-30T00:00:00",
          "2020-09-30T00:00:00",
          "2020-12-31T00:00:00",
          "2021-03-31T00:00:00",
          "2021-06-30T00:00:00",
          "2021-09-30T00:00:00",
          "2021-12-31T00:00:00",
          "2022-03-31T00:00:00",
          "2022-06-30T00:00:00",
          "2022-09-30T00:00:00",
          "2022-12-31T00:00:00",
          "2023-03-31T00:00:00",
          "2023-06-30T00:00:00",
          "2023-09-30T00:00:00"
         ],
         "xaxis": "x",
         "y": [
          44836,
          66895,
          47862,
          65384,
          24214,
          81863,
          31161,
          44922,
          39004,
          74914,
          80063,
          108686,
          30057,
          67118,
          45177,
          68711,
          81002,
          62478,
          67529,
          44742,
          59258,
          64032,
          114105,
          75716,
          119069,
          136872,
          165263,
          88393,
          16520,
          76671,
          57751,
          101475
         ],
         "yaxis": "y"
        },
        {
         "legendgroup": "group",
         "legendgrouptitle": {
          "text": "method one"
         },
         "marker": {
          "color": "darkred"
         },
         "name": "Finished Goods",
         "type": "bar",
         "x": [
          "2011-12-31T00:00:00",
          "2012-06-30T00:00:00",
          "2012-09-30T00:00:00",
          "2012-12-31T00:00:00",
          "2013-03-31T00:00:00",
          "2013-06-30T00:00:00",
          "2013-09-30T00:00:00",
          "2013-12-31T00:00:00",
          "2014-03-31T00:00:00",
          "2014-06-30T00:00:00",
          "2014-09-30T00:00:00",
          "2014-12-31T00:00:00",
          "2015-03-31T00:00:00",
          "2015-06-30T00:00:00",
          "2015-09-30T00:00:00",
          "2015-12-31T00:00:00",
          "2016-03-31T00:00:00",
          "2016-06-30T00:00:00",
          "2016-09-30T00:00:00",
          "2016-12-31T00:00:00",
          "2017-03-31T00:00:00",
          "2017-06-30T00:00:00",
          "2017-09-30T00:00:00",
          "2017-12-31T00:00:00",
          "2018-03-31T00:00:00",
          "2018-06-30T00:00:00",
          "2018-09-30T00:00:00",
          "2018-12-31T00:00:00",
          "2019-03-31T00:00:00",
          "2019-06-30T00:00:00",
          "2019-09-30T00:00:00",
          "2019-12-31T00:00:00",
          "2020-03-31T00:00:00",
          "2020-06-30T00:00:00",
          "2020-09-30T00:00:00",
          "2020-12-31T00:00:00",
          "2021-03-31T00:00:00",
          "2021-06-30T00:00:00",
          "2021-09-30T00:00:00",
          "2021-12-31T00:00:00",
          "2022-03-31T00:00:00",
          "2022-06-30T00:00:00",
          "2022-09-30T00:00:00",
          "2022-12-31T00:00:00",
          "2023-03-31T00:00:00",
          "2023-06-30T00:00:00",
          "2023-09-30T00:00:00"
         ],
         "xaxis": "x",
         "y": [
          996902,
          632702,
          491437,
          761206,
          558010,
          501456,
          639164,
          1121990,
          1133232,
          1243362,
          1155770,
          842062,
          508949,
          641508,
          803860,
          914486,
          1154249,
          1272153,
          866974,
          882216,
          852221,
          382805,
          833650,
          937780,
          815904,
          1015912,
          978800,
          984252,
          866910,
          838985,
          806721,
          815768,
          886859,
          987214,
          1040276,
          941100,
          891840,
          395587,
          777340,
          797372,
          721383,
          980483,
          1453881,
          1054367,
          1862622,
          1196348,
          535194
         ],
         "yaxis": "y"
        },
        {
         "legendgroup": "group",
         "legendgrouptitle": {
          "text": "method one"
         },
         "marker": {
          "color": "darkblue"
         },
         "name": "Net Income",
         "type": "scatter",
         "x": [
          "2010-06-30T00:00:00",
          "2010-09-30T00:00:00",
          "2010-12-31T00:00:00",
          "2011-03-31T00:00:00",
          "2011-06-30T00:00:00",
          "2011-09-30T00:00:00",
          "2011-12-31T00:00:00",
          "2012-03-31T00:00:00",
          "2012-06-30T00:00:00",
          "2012-09-30T00:00:00",
          "2012-12-31T00:00:00",
          "2013-03-31T00:00:00",
          "2013-06-30T00:00:00",
          "2013-09-30T00:00:00",
          "2013-12-31T00:00:00",
          "2014-03-31T00:00:00",
          "2014-06-30T00:00:00",
          "2014-09-30T00:00:00",
          "2014-12-31T00:00:00",
          "2015-03-31T00:00:00",
          "2015-06-30T00:00:00",
          "2015-09-30T00:00:00",
          "2015-12-31T00:00:00",
          "2016-03-31T00:00:00",
          "2016-06-30T00:00:00",
          "2016-09-30T00:00:00",
          "2016-12-31T00:00:00",
          "2017-03-31T00:00:00",
          "2017-06-30T00:00:00",
          "2017-09-30T00:00:00",
          "2017-12-31T00:00:00",
          "2018-03-31T00:00:00",
          "2018-06-30T00:00:00",
          "2018-09-30T00:00:00",
          "2018-12-31T00:00:00",
          "2019-03-31T00:00:00",
          "2019-06-30T00:00:00",
          "2019-09-30T00:00:00",
          "2019-12-31T00:00:00",
          "2020-03-31T00:00:00",
          "2020-06-30T00:00:00",
          "2020-09-30T00:00:00",
          "2020-12-31T00:00:00",
          "2021-03-31T00:00:00",
          "2021-06-30T00:00:00",
          "2021-09-30T00:00:00",
          "2021-12-31T00:00:00",
          "2022-03-31T00:00:00",
          "2022-06-30T00:00:00",
          "2022-09-30T00:00:00",
          "2022-12-31T00:00:00",
          "2023-03-31T00:00:00",
          "2023-06-30T00:00:00",
          "2023-09-30T00:00:00"
         ],
         "xaxis": "x",
         "y": [
          624524,
          1243785,
          1931383,
          1166183,
          1224640,
          1369283,
          956424,
          1228630,
          1193084,
          1116161,
          1292905,
          1564649,
          1342540,
          1276791,
          1719329,
          1335753,
          901273,
          411426,
          1401964,
          1460510,
          1510511,
          1217537,
          418371,
          525091,
          405381,
          900135,
          750535,
          634435,
          1104149,
          1090323,
          1015383,
          1059862,
          1392662,
          1316524,
          583283,
          1222694,
          1078810,
          1069871,
          1390336,
          790307,
          1186611,
          717532,
          610528,
          1181202,
          1344524,
          1016506,
          1116310,
          911465,
          633324,
          345518,
          679205,
          756081,
          461094,
          626756
         ],
         "yaxis": "y"
        }
       ],
       "layout": {
        "bargroupgap": 0.1,
        "barmode": "group",
        "paper_bgcolor": "rgb(0,0,0)",
        "plot_bgcolor": "rgb(0,0,0)",
        "template": {
         "data": {
          "candlestick": [
           {
            "decreasing": {
             "line": {
              "color": "#000033"
             }
            },
            "increasing": {
             "line": {
              "color": "#000032"
             }
            },
            "type": "candlestick"
           }
          ],
          "contour": [
           {
            "colorscale": [
             [
              0,
              "#000011"
             ],
             [
              0.1111111111111111,
              "#000012"
             ],
             [
              0.2222222222222222,
              "#000013"
             ],
             [
              0.3333333333333333,
              "#000014"
             ],
             [
              0.4444444444444444,
              "#000015"
             ],
             [
              0.5555555555555556,
              "#000016"
             ],
             [
              0.6666666666666666,
              "#000017"
             ],
             [
              0.7777777777777778,
              "#000018"
             ],
             [
              0.8888888888888888,
              "#000019"
             ],
             [
              1,
              "#000020"
             ]
            ],
            "type": "contour"
           }
          ],
          "contourcarpet": [
           {
            "colorscale": [
             [
              0,
              "#000011"
             ],
             [
              0.1111111111111111,
              "#000012"
             ],
             [
              0.2222222222222222,
              "#000013"
             ],
             [
              0.3333333333333333,
              "#000014"
             ],
             [
              0.4444444444444444,
              "#000015"
             ],
             [
              0.5555555555555556,
              "#000016"
             ],
             [
              0.6666666666666666,
              "#000017"
             ],
             [
              0.7777777777777778,
              "#000018"
             ],
             [
              0.8888888888888888,
              "#000019"
             ],
             [
              1,
              "#000020"
             ]
            ],
            "type": "contourcarpet"
           }
          ],
          "heatmap": [
           {
            "colorscale": [
             [
              0,
              "#000011"
             ],
             [
              0.1111111111111111,
              "#000012"
             ],
             [
              0.2222222222222222,
              "#000013"
             ],
             [
              0.3333333333333333,
              "#000014"
             ],
             [
              0.4444444444444444,
              "#000015"
             ],
             [
              0.5555555555555556,
              "#000016"
             ],
             [
              0.6666666666666666,
              "#000017"
             ],
             [
              0.7777777777777778,
              "#000018"
             ],
             [
              0.8888888888888888,
              "#000019"
             ],
             [
              1,
              "#000020"
             ]
            ],
            "type": "heatmap"
           }
          ],
          "histogram2d": [
           {
            "colorscale": [
             [
              0,
              "#000011"
             ],
             [
              0.1111111111111111,
              "#000012"
             ],
             [
              0.2222222222222222,
              "#000013"
             ],
             [
              0.3333333333333333,
              "#000014"
             ],
             [
              0.4444444444444444,
              "#000015"
             ],
             [
              0.5555555555555556,
              "#000016"
             ],
             [
              0.6666666666666666,
              "#000017"
             ],
             [
              0.7777777777777778,
              "#000018"
             ],
             [
              0.8888888888888888,
              "#000019"
             ],
             [
              1,
              "#000020"
             ]
            ],
            "type": "histogram2d"
           }
          ],
          "icicle": [
           {
            "textfont": {
             "color": "white"
            },
            "type": "icicle"
           }
          ],
          "sankey": [
           {
            "textfont": {
             "color": "#000036"
            },
            "type": "sankey"
           }
          ],
          "scatter": [
           {
            "marker": {
             "line": {
              "width": 0
             }
            },
            "type": "scatter"
           }
          ],
          "table": [
           {
            "cells": {
             "fill": {
              "color": "#000038"
             },
             "font": {
              "color": "#000037"
             },
             "line": {
              "color": "#000039"
             }
            },
            "header": {
             "fill": {
              "color": "#000040"
             },
             "font": {
              "color": "#000036"
             },
             "line": {
              "color": "#000039"
             }
            },
            "type": "table"
           }
          ],
          "waterfall": [
           {
            "connector": {
             "line": {
              "color": "#000036",
              "width": 2
             }
            },
            "decreasing": {
             "marker": {
              "color": "#000033"
             }
            },
            "increasing": {
             "marker": {
              "color": "#000032"
             }
            },
            "totals": {
             "marker": {
              "color": "#000034"
             }
            },
            "type": "waterfall"
           }
          ]
         },
         "layout": {
          "coloraxis": {
           "colorscale": [
            [
             0,
             "#000011"
            ],
            [
             0.1111111111111111,
             "#000012"
            ],
            [
             0.2222222222222222,
             "#000013"
            ],
            [
             0.3333333333333333,
             "#000014"
            ],
            [
             0.4444444444444444,
             "#000015"
            ],
            [
             0.5555555555555556,
             "#000016"
            ],
            [
             0.6666666666666666,
             "#000017"
            ],
            [
             0.7777777777777778,
             "#000018"
            ],
            [
             0.8888888888888888,
             "#000019"
            ],
            [
             1,
             "#000020"
            ]
           ]
          },
          "colorscale": {
           "diverging": [
            [
             0,
             "#000021"
            ],
            [
             0.1,
             "#000022"
            ],
            [
             0.2,
             "#000023"
            ],
            [
             0.3,
             "#000024"
            ],
            [
             0.4,
             "#000025"
            ],
            [
             0.5,
             "#000026"
            ],
            [
             0.6,
             "#000027"
            ],
            [
             0.7,
             "#000028"
            ],
            [
             0.8,
             "#000029"
            ],
            [
             0.9,
             "#000030"
            ],
            [
             1,
             "#000031"
            ]
           ],
           "sequential": [
            [
             0,
             "#000011"
            ],
            [
             0.1111111111111111,
             "#000012"
            ],
            [
             0.2222222222222222,
             "#000013"
            ],
            [
             0.3333333333333333,
             "#000014"
            ],
            [
             0.4444444444444444,
             "#000015"
            ],
            [
             0.5555555555555556,
             "#000016"
            ],
            [
             0.6666666666666666,
             "#000017"
            ],
            [
             0.7777777777777778,
             "#000018"
            ],
            [
             0.8888888888888888,
             "#000019"
            ],
            [
             1,
             "#000020"
            ]
           ],
           "sequentialminus": [
            [
             0,
             "#000011"
            ],
            [
             0.1111111111111111,
             "#000012"
            ],
            [
             0.2222222222222222,
             "#000013"
            ],
            [
             0.3333333333333333,
             "#000014"
            ],
            [
             0.4444444444444444,
             "#000015"
            ],
            [
             0.5555555555555556,
             "#000016"
            ],
            [
             0.6666666666666666,
             "#000017"
            ],
            [
             0.7777777777777778,
             "#000018"
            ],
            [
             0.8888888888888888,
             "#000019"
            ],
            [
             1,
             "#000020"
            ]
           ]
          },
          "colorway": [
           "#000001",
           "#000002",
           "#000003",
           "#000004",
           "#000005",
           "#000006",
           "#000007",
           "#000008",
           "#000009",
           "#000010"
          ]
         }
        },
        "xaxis": {
         "anchor": "y",
         "domain": [
          0,
          1
         ]
        },
        "yaxis": {
         "anchor": "x",
         "domain": [
          0,
          1
         ]
        }
       }
      }
     },
     "metadata": {},
     "output_type": "display_data"
    }
   ],
   "source": [
    "import plotly.graph_objects as go\n",
    "import plotly.subplots as pls\n",
    "\n",
    "fig = go.Figure()\n",
    "fig = pls.make_subplots(rows=1, cols=1)\n",
    "\n",
    "fig.add_trace(go.Bar(\n",
    "    x = chart_df['end'][chart_df['tag']==raw_tag],\n",
    "    y = chart_df['val'][chart_df['tag']==raw_tag],\n",
    "    legendgroup=\"group\",\n",
    "    marker=dict(color='forestgreen'),\n",
    "    legendgrouptitle_text=\"method one\",\n",
    "    name=\"Raw Materials\"\n",
    "), row=1, col=1)\n",
    "\n",
    "fig.add_trace(go.Bar(\n",
    "    x = chart_df['end'][chart_df['tag']==wip_tag],\n",
    "    y = chart_df['val'][chart_df['tag']==wip_tag],\n",
    "    legendgroup=\"group\", \n",
    "    legendgrouptitle_text=\"method one\",\n",
    "    marker=dict(color='goldenrod'),\n",
    "    name=\"Work In Process\"\n",
    "), row=1, col=1)\n",
    "\n",
    "fig.add_trace(go.Bar(\n",
    "    x = chart_df['end'][chart_df['tag']==fin_tag],\n",
    "    y = chart_df['val'][chart_df['tag']==fin_tag],\n",
    "    legendgroup=\"group\", \n",
    "    legendgrouptitle_text=\"method one\",\n",
    "    marker=dict(color='darkred'),\n",
    "    name=\"Finished Goods\"\n",
    "), row=1, col=1)\n",
    "\n",
    "fig.add_trace(go.Line(\n",
    "    x = chart_df['end'][(chart_df['tag']=='NetIncomeLoss')],\n",
    "    y = chart_df['val'][chart_df['tag']=='NetIncomeLoss'],\n",
    "    legendgroup=\"group\", \n",
    "    legendgrouptitle_text=\"method one\",\n",
    "    marker=dict(color='darkblue'),\n",
    "    name=\"Net Income\"\n",
    "), row=1, col=1)\n",
    "\n",
    "\n",
    "fig.update_layout(barmode='group', bargroupgap=0.1, plot_bgcolor='rgb(0,0,0)',paper_bgcolor='rgb(0,0,0)' )"
   ]
  },
  {
   "cell_type": "code",
   "execution_count": 149,
   "metadata": {},
   "outputs": [],
   "source": [
    "fig, ax1 = plt.subplots(figsize=(10, 6))\n",
    "\n",
    "\n",
    "ax1.set_title('Average Income and Percent Employed/Satisfied by Field of Study', fontsize=16)\n",
    "ax1.set_xlabel('Field of Study', fontsize=16)\n",
    "ax1.set_ylabel('Percent (%)', fontsize=16, color=\"mediumpurple\")\n",
    "q2_bar[['Employed', 'Satisfied']].plot(kind='bar', width = 0.8, color = ['mediumpurple', 'goldenrod'], legend= ['Employed', 'Satisfied'], ax=ax1, position=1)\n",
    "ax1.set_xlabel('Field of Study', fontsize=16)\n",
    "ax1.tick_params(axis='y', colors=\"goldenrod\")\n",
    "labels_text = ['Visual and performing arts, \\n and communications technologies',\n",
    "                'Humanities',\n",
    "                'Physical and life sciences \\n and technologies',\n",
    "                'Social and behavioural sciences \\n and law',\n",
    "                'Architecture, engineering, \\n and related technologies',\n",
    "                'Mathematics, computer and \\n information sciences',\n",
    "                'Business, management and \\n public administration',\n",
    "                'Agriculture, natural resources \\n and conservation',\n",
    "                'Education']\n",
    "\n",
    "ax1.get_legend().remove()\n",
    "\n",
    "ax2 = ax1.twinx()  # share the x-axis, new y-axis\n",
    "color = 'crimson'\n",
    "ax2.set_ylabel('Annual Income ($)', fontsize=12, color=color)\n",
    "q2_bar['income'].plot(color=\"red\", ax=ax2, label = 'Income')\n",
    "ax2.tick_params(axis='y', colors=\"red\")\n",
    "ax2.set_xticks(ticks = np.arange(9)-0.4, labels = labels_text, fontsize=16, ha='right')\n",
    "fig.legend(loc='center left')\n",
    "\n",
    "\n",
    "plt.show()"
   ]
  },
  {
   "cell_type": "code",
   "execution_count": 61,
   "metadata": {},
   "outputs": [],
   "source": [
    "x_raw = df['frame'][df['tag'] == 'InventoryRawMaterials']\n",
    "y_raw = df['val'][df['tag'] == 'InventoryRawMaterials']\n",
    "\n",
    "x_inprog = df['frame'][df['tag'] == 'InventoryWorkInProcess']\n",
    "y_inprog = df['val'][df['tag'] == 'InventoryWorkInProcess']\n",
    "\n",
    "x_finish = df['frame'][df['tag'] == 'InventoryFinishedGoods']\n",
    "y_finish = df['val'][df['tag'] == 'InventoryFinishedGoods']"
   ]
  },
  {
   "cell_type": "code",
   "execution_count": null,
   "metadata": {},
   "outputs": [],
   "source": [
    "def make_groupedbar(input_x, input_y):\n",
    "    px.bar(\n",
    "    x = input_x\n",
    "    y = input_y,\n",
    "    opacity = 0.9,\n",
    "    orientation = \"v\",\n",
    "    barmode = 'group',\n",
    "    title='Annual In-State Tuition vs Out-of-state Tuition',\n",
    ")"
   ]
  },
  {
   "cell_type": "code",
   "execution_count": 73,
   "metadata": {},
   "outputs": [
    {
     "data": {
      "text/plain": [
       "Series([], Name: val, dtype: float64)"
      ]
     },
     "execution_count": 73,
     "metadata": {},
     "output_type": "execute_result"
    }
   ],
   "source": [
    "df['val'][df['tag'] == 'InventoryRawMaterials']"
   ]
  },
  {
   "cell_type": "code",
   "execution_count": 67,
   "metadata": {},
   "outputs": [
    {
     "ename": "ValueError",
     "evalue": "Cannot accept list of column references or list of columns for both `x` and `y`.",
     "output_type": "error",
     "traceback": [
      "\u001b[1;31m---------------------------------------------------------------------------\u001b[0m",
      "\u001b[1;31mValueError\u001b[0m                                Traceback (most recent call last)",
      "Cell \u001b[1;32mIn[67], line 4\u001b[0m\n\u001b[0;32m      1\u001b[0m input_x \u001b[38;5;241m=\u001b[39m x_raw\n\u001b[0;32m      2\u001b[0m input_y \u001b[38;5;241m=\u001b[39m y_raw\n\u001b[1;32m----> 4\u001b[0m \u001b[43mpx\u001b[49m\u001b[38;5;241;43m.\u001b[39;49m\u001b[43mbar\u001b[49m\u001b[43m(\u001b[49m\u001b[43mx\u001b[49m\u001b[43m \u001b[49m\u001b[38;5;241;43m=\u001b[39;49m\u001b[43m \u001b[49m\u001b[43minput_x\u001b[49m\u001b[43m,\u001b[49m\n\u001b[0;32m      5\u001b[0m \u001b[43m    \u001b[49m\u001b[43my\u001b[49m\u001b[43m \u001b[49m\u001b[38;5;241;43m=\u001b[39;49m\u001b[43m \u001b[49m\u001b[43minput_y\u001b[49m\u001b[43m,\u001b[49m\n\u001b[0;32m      6\u001b[0m \u001b[43m    \u001b[49m\u001b[43mopacity\u001b[49m\u001b[43m \u001b[49m\u001b[38;5;241;43m=\u001b[39;49m\u001b[43m \u001b[49m\u001b[38;5;241;43m0.9\u001b[39;49m\u001b[43m,\u001b[49m\n\u001b[0;32m      7\u001b[0m \u001b[43m    \u001b[49m\u001b[43morientation\u001b[49m\u001b[43m \u001b[49m\u001b[38;5;241;43m=\u001b[39;49m\u001b[43m \u001b[49m\u001b[38;5;124;43m\"\u001b[39;49m\u001b[38;5;124;43mv\u001b[39;49m\u001b[38;5;124;43m\"\u001b[39;49m\u001b[43m,\u001b[49m\n\u001b[0;32m      8\u001b[0m \u001b[43m    \u001b[49m\u001b[43mbarmode\u001b[49m\u001b[43m \u001b[49m\u001b[38;5;241;43m=\u001b[39;49m\u001b[43m \u001b[49m\u001b[38;5;124;43m'\u001b[39;49m\u001b[38;5;124;43mgroup\u001b[39;49m\u001b[38;5;124;43m'\u001b[39;49m\u001b[43m,\u001b[49m\n\u001b[0;32m      9\u001b[0m \u001b[43m    \u001b[49m\u001b[43mtitle\u001b[49m\u001b[38;5;241;43m=\u001b[39;49m\u001b[38;5;124;43m'\u001b[39;49m\u001b[38;5;124;43mAnnual In-State Tuition vs Out-of-state Tuition\u001b[39;49m\u001b[38;5;124;43m'\u001b[39;49m\u001b[43m,\u001b[49m\n\u001b[0;32m     10\u001b[0m \u001b[43m)\u001b[49m\n",
      "File \u001b[1;32mc:\\Users\\hurdg\\Documents\\Investments\\StreamLit_Dash\\.venv\\Lib\\site-packages\\plotly\\express\\_chart_types.py:373\u001b[0m, in \u001b[0;36mbar\u001b[1;34m(data_frame, x, y, color, pattern_shape, facet_row, facet_col, facet_col_wrap, facet_row_spacing, facet_col_spacing, hover_name, hover_data, custom_data, text, base, error_x, error_x_minus, error_y, error_y_minus, animation_frame, animation_group, category_orders, labels, color_discrete_sequence, color_discrete_map, color_continuous_scale, pattern_shape_sequence, pattern_shape_map, range_color, color_continuous_midpoint, opacity, orientation, barmode, log_x, log_y, range_x, range_y, text_auto, title, template, width, height)\u001b[0m\n\u001b[0;32m    325\u001b[0m \u001b[38;5;28;01mdef\u001b[39;00m \u001b[38;5;21mbar\u001b[39m(\n\u001b[0;32m    326\u001b[0m     data_frame\u001b[38;5;241m=\u001b[39m\u001b[38;5;28;01mNone\u001b[39;00m,\n\u001b[0;32m    327\u001b[0m     x\u001b[38;5;241m=\u001b[39m\u001b[38;5;28;01mNone\u001b[39;00m,\n\u001b[1;32m   (...)\u001b[0m\n\u001b[0;32m    367\u001b[0m     height\u001b[38;5;241m=\u001b[39m\u001b[38;5;28;01mNone\u001b[39;00m,\n\u001b[0;32m    368\u001b[0m ) \u001b[38;5;241m-\u001b[39m\u001b[38;5;241m>\u001b[39m go\u001b[38;5;241m.\u001b[39mFigure:\n\u001b[0;32m    369\u001b[0m \u001b[38;5;250m    \u001b[39m\u001b[38;5;124;03m\"\"\"\u001b[39;00m\n\u001b[0;32m    370\u001b[0m \u001b[38;5;124;03m    In a bar plot, each row of `data_frame` is represented as a rectangular\u001b[39;00m\n\u001b[0;32m    371\u001b[0m \u001b[38;5;124;03m    mark.\u001b[39;00m\n\u001b[0;32m    372\u001b[0m \u001b[38;5;124;03m    \"\"\"\u001b[39;00m\n\u001b[1;32m--> 373\u001b[0m     \u001b[38;5;28;01mreturn\u001b[39;00m \u001b[43mmake_figure\u001b[49m\u001b[43m(\u001b[49m\n\u001b[0;32m    374\u001b[0m \u001b[43m        \u001b[49m\u001b[43margs\u001b[49m\u001b[38;5;241;43m=\u001b[39;49m\u001b[38;5;28;43mlocals\u001b[39;49m\u001b[43m(\u001b[49m\u001b[43m)\u001b[49m\u001b[43m,\u001b[49m\n\u001b[0;32m    375\u001b[0m \u001b[43m        \u001b[49m\u001b[43mconstructor\u001b[49m\u001b[38;5;241;43m=\u001b[39;49m\u001b[43mgo\u001b[49m\u001b[38;5;241;43m.\u001b[39;49m\u001b[43mBar\u001b[49m\u001b[43m,\u001b[49m\n\u001b[0;32m    376\u001b[0m \u001b[43m        \u001b[49m\u001b[43mtrace_patch\u001b[49m\u001b[38;5;241;43m=\u001b[39;49m\u001b[38;5;28;43mdict\u001b[39;49m\u001b[43m(\u001b[49m\u001b[43mtextposition\u001b[49m\u001b[38;5;241;43m=\u001b[39;49m\u001b[38;5;124;43m\"\u001b[39;49m\u001b[38;5;124;43mauto\u001b[39;49m\u001b[38;5;124;43m\"\u001b[39;49m\u001b[43m)\u001b[49m\u001b[43m,\u001b[49m\n\u001b[0;32m    377\u001b[0m \u001b[43m        \u001b[49m\u001b[43mlayout_patch\u001b[49m\u001b[38;5;241;43m=\u001b[39;49m\u001b[38;5;28;43mdict\u001b[39;49m\u001b[43m(\u001b[49m\u001b[43mbarmode\u001b[49m\u001b[38;5;241;43m=\u001b[39;49m\u001b[43mbarmode\u001b[49m\u001b[43m)\u001b[49m\u001b[43m,\u001b[49m\n\u001b[0;32m    378\u001b[0m \u001b[43m    \u001b[49m\u001b[43m)\u001b[49m\n",
      "File \u001b[1;32mc:\\Users\\hurdg\\Documents\\Investments\\StreamLit_Dash\\.venv\\Lib\\site-packages\\plotly\\express\\_core.py:2090\u001b[0m, in \u001b[0;36mmake_figure\u001b[1;34m(args, constructor, trace_patch, layout_patch)\u001b[0m\n\u001b[0;32m   2087\u001b[0m layout_patch \u001b[38;5;241m=\u001b[39m layout_patch \u001b[38;5;129;01mor\u001b[39;00m {}\n\u001b[0;32m   2088\u001b[0m apply_default_cascade(args)\n\u001b[1;32m-> 2090\u001b[0m args \u001b[38;5;241m=\u001b[39m \u001b[43mbuild_dataframe\u001b[49m\u001b[43m(\u001b[49m\u001b[43margs\u001b[49m\u001b[43m,\u001b[49m\u001b[43m \u001b[49m\u001b[43mconstructor\u001b[49m\u001b[43m)\u001b[49m\n\u001b[0;32m   2091\u001b[0m \u001b[38;5;28;01mif\u001b[39;00m constructor \u001b[38;5;129;01min\u001b[39;00m [go\u001b[38;5;241m.\u001b[39mTreemap, go\u001b[38;5;241m.\u001b[39mSunburst, go\u001b[38;5;241m.\u001b[39mIcicle] \u001b[38;5;129;01mand\u001b[39;00m args[\u001b[38;5;124m\"\u001b[39m\u001b[38;5;124mpath\u001b[39m\u001b[38;5;124m\"\u001b[39m] \u001b[38;5;129;01mis\u001b[39;00m \u001b[38;5;129;01mnot\u001b[39;00m \u001b[38;5;28;01mNone\u001b[39;00m:\n\u001b[0;32m   2092\u001b[0m     args \u001b[38;5;241m=\u001b[39m process_dataframe_hierarchy(args)\n",
      "File \u001b[1;32mc:\\Users\\hurdg\\Documents\\Investments\\StreamLit_Dash\\.venv\\Lib\\site-packages\\plotly\\express\\_core.py:1372\u001b[0m, in \u001b[0;36mbuild_dataframe\u001b[1;34m(args, constructor)\u001b[0m\n\u001b[0;32m   1370\u001b[0m \u001b[38;5;28;01mif\u001b[39;00m constructor \u001b[38;5;129;01min\u001b[39;00m cartesians:\n\u001b[0;32m   1371\u001b[0m     \u001b[38;5;28;01mif\u001b[39;00m wide_x \u001b[38;5;129;01mand\u001b[39;00m wide_y:\n\u001b[1;32m-> 1372\u001b[0m         \u001b[38;5;28;01mraise\u001b[39;00m \u001b[38;5;167;01mValueError\u001b[39;00m(\n\u001b[0;32m   1373\u001b[0m             \u001b[38;5;124m\"\u001b[39m\u001b[38;5;124mCannot accept list of column references or list of columns for both `x` and `y`.\u001b[39m\u001b[38;5;124m\"\u001b[39m\n\u001b[0;32m   1374\u001b[0m         )\n\u001b[0;32m   1375\u001b[0m     \u001b[38;5;28;01mif\u001b[39;00m df_provided \u001b[38;5;129;01mand\u001b[39;00m no_x \u001b[38;5;129;01mand\u001b[39;00m no_y:\n\u001b[0;32m   1376\u001b[0m         wide_mode \u001b[38;5;241m=\u001b[39m \u001b[38;5;28;01mTrue\u001b[39;00m\n",
      "\u001b[1;31mValueError\u001b[0m: Cannot accept list of column references or list of columns for both `x` and `y`."
     ]
    }
   ],
   "source": [
    "input_x = x_raw\n",
    "input_y = y_raw\n",
    "\n",
    "px.bar(x = input_x,\n",
    "    y = input_y,\n",
    "    opacity = 0.9,\n",
    "    orientation = \"v\",\n",
    "    barmode = 'group',\n",
    "    title='Annual In-State Tuition vs Out-of-state Tuition',\n",
    ")"
   ]
  },
  {
   "cell_type": "code",
   "execution_count": 55,
   "metadata": {},
   "outputs": [
    {
     "data": {
      "text/plain": [
       "Index(['end', 'val', 'accn', 'fy', 'fp', 'form', 'filed', 'frame', 'tag',\n",
       "       'units', 'start'],\n",
       "      dtype='object')"
      ]
     },
     "execution_count": 55,
     "metadata": {},
     "output_type": "execute_result"
    }
   ],
   "source": [
    "def extract_name(json_str):\n",
    "    json_data = json.loads(json_str)\n",
    "    return json_data.get('name')\n",
    "\n",
    "df['category2'] = df['category'].apply(extract_name)"
   ]
  },
  {
   "cell_type": "markdown",
   "metadata": {},
   "source": [
    "# Basic Python with SEC Edgar API\n"
   ]
  },
  {
   "cell_type": "code",
   "execution_count": 1,
   "metadata": {},
   "outputs": [],
   "source": [
    "import requests\n",
    "import json\n",
    "import pandas as pd\n",
    "import time\n",
    "from secedgar import CompanyFilings, FilingType\n",
    "\n",
    "header = {'User-Agent':'gavinhurd11@gmail.com'}\n",
    "tickers_cik = requests.get('https://www.sec.gov/files/company_tickers.json', headers = header)\n",
    "tickers_cik = pd.json_normalize(pd.json_normalize(tickers_cik.json(), max_level=0).values[0])\n",
    "tickers_cik['cik_str']=tickers_cik['cik_str'].astype(str).str.zfill(10)\n"
   ]
  },
  {
   "cell_type": "code",
   "execution_count": 6,
   "metadata": {},
   "outputs": [
    {
     "data": {
      "text/plain": [
       "1    0000320193\n",
       "Name: cik_str, dtype: object"
      ]
     },
     "execution_count": 6,
     "metadata": {},
     "output_type": "execute_result"
    }
   ],
   "source": [
    "tickers_cik['cik_str'][tickers_cik['ticker'] == 'AAPL']"
   ]
  },
  {
   "cell_type": "code",
   "execution_count": 2,
   "metadata": {},
   "outputs": [],
   "source": [
    "#List of possible 'tags'\n",
    "header = {'User-Agent':'gavinhurd11@gmail.com'}\n",
    "example_cik=tickers_cik['cik_str'][0]\n",
    "url = 'https://data.sec.gov/api/xbrl/companyfacts/CIK'+example_cik+'.json'\n",
    "response_example = requests.get(url, headers=header)\n",
    "possible_tags = list(response_example.json()['facts']['us-gaap'].keys())"
   ]
  },
  {
   "cell_type": "code",
   "execution_count": 4,
   "metadata": {},
   "outputs": [],
   "source": [
    "def EDGAR_query(cik:str, header:dict, tag:list=None)->pd.DataFrame:\n",
    "    url = 'https://data.sec.gov/api/xbrl/companyfacts/CIK'+cik+'.json'\n",
    "    response = requests.get(url, headers=header)\n",
    "\n",
    "    try:\n",
    "        if tag == None:\n",
    "            tags = list(response.json()['facts']['us-gaap'].keys())\n",
    "        else:\n",
    "            tags=tag\n",
    "        \n",
    "        company_data = pd.DataFrame()\n",
    "\n",
    "\n",
    "        for i in range(len(tags)):\n",
    "            try:\n",
    "                tag = tags[i]\n",
    "                units = list(response.json()['facts']['us-gaap'][tag]['units'].keys())[0]\n",
    "                data = pd.json_normalize(response.json()['facts']['us-gaap'][tag]['units'][units])\n",
    "                data['tag']=tag\n",
    "                data['units']=units\n",
    "                company_data = pd.concat([company_data, data], ignore_index=True)\n",
    "            except:\n",
    "                print(tag+'not found')\n",
    "    except:print('company data not found')\n",
    "    return company_data\n"
   ]
  },
  {
   "cell_type": "code",
   "execution_count": 9,
   "metadata": {},
   "outputs": [
    {
     "name": "stdout",
     "output_type": "stream",
     "text": [
      "0\n",
      "1\n",
      "2\n",
      "3\n",
      "4\n",
      "5\n",
      "6\n",
      "7\n",
      "8\n",
      "9\n",
      "10\n",
      "company data not found\n",
      "company datat not found again\n",
      "12\n",
      "13\n",
      "company data not found\n",
      "company datat not found again\n",
      "company data not found\n",
      "company datat not found again\n",
      "16\n",
      "17\n",
      "company data not found\n",
      "company datat not found again\n",
      "19\n",
      "20\n",
      "21\n",
      "22\n",
      "23\n",
      "24\n",
      "25\n",
      "26\n",
      "27\n",
      "28\n",
      "29\n",
      "30\n",
      "31\n",
      "32\n",
      "33\n",
      "34\n",
      "35\n",
      "company data not found\n",
      "company datat not found again\n",
      "37\n",
      "company data not found\n",
      "company datat not found again\n",
      "39\n",
      "company data not found\n",
      "company datat not found again\n",
      "company data not found\n",
      "company datat not found again\n",
      "42\n",
      "43\n",
      "44\n",
      "45\n",
      "46\n",
      "47\n",
      "company data not found\n",
      "company datat not found again\n",
      "49\n",
      "50\n",
      "51\n",
      "52\n",
      "53\n",
      "54\n",
      "55\n",
      "56\n",
      "57\n",
      "58\n",
      "59\n",
      "60\n",
      "61\n",
      "62\n",
      "63\n",
      "company data not found\n",
      "company datat not found again\n",
      "company data not found\n",
      "company datat not found again\n",
      "66\n",
      "67\n",
      "68\n",
      "69\n",
      "70\n",
      "71\n",
      "72\n",
      "73\n",
      "74\n",
      "company data not found\n",
      "company datat not found again\n",
      "76\n",
      "77\n",
      "78\n",
      "79\n"
     ]
    },
    {
     "name": "stderr",
     "output_type": "stream",
     "text": [
      "C:\\Users\\hurdg\\AppData\\Local\\Temp\\ipykernel_88304\\2041124615.py:21: FutureWarning: The behavior of DataFrame concatenation with empty or all-NA entries is deprecated. In a future version, this will no longer exclude empty or all-NA columns when determining the result dtypes. To retain the old behavior, exclude the relevant entries before the concat operation.\n",
      "  company_data = pd.concat([company_data, data], ignore_index=True)\n"
     ]
    },
    {
     "name": "stdout",
     "output_type": "stream",
     "text": [
      "80\n",
      "81\n",
      "82\n",
      "company data not found\n",
      "company datat not found again\n",
      "company data not found\n",
      "company datat not found again\n",
      "85\n",
      "86\n",
      "87\n",
      "88\n",
      "89\n",
      "company data not found\n",
      "company datat not found again\n",
      "91\n",
      "company data not found\n",
      "company datat not found again\n",
      "93\n",
      "company data not found\n",
      "company datat not found again\n",
      "95\n",
      "company data not found\n",
      "company datat not found again\n",
      "97\n",
      "98\n",
      "99\n",
      "100\n",
      "101\n",
      "102\n",
      "103\n",
      "104\n",
      "105\n",
      "106\n",
      "company data not found\n",
      "company datat not found again\n",
      "108\n",
      "109\n"
     ]
    },
    {
     "name": "stderr",
     "output_type": "stream",
     "text": [
      "C:\\Users\\hurdg\\AppData\\Local\\Temp\\ipykernel_88304\\2041124615.py:21: FutureWarning: The behavior of DataFrame concatenation with empty or all-NA entries is deprecated. In a future version, this will no longer exclude empty or all-NA columns when determining the result dtypes. To retain the old behavior, exclude the relevant entries before the concat operation.\n",
      "  company_data = pd.concat([company_data, data], ignore_index=True)\n",
      "C:\\Users\\hurdg\\AppData\\Local\\Temp\\ipykernel_88304\\2041124615.py:21: FutureWarning: The behavior of DataFrame concatenation with empty or all-NA entries is deprecated. In a future version, this will no longer exclude empty or all-NA columns when determining the result dtypes. To retain the old behavior, exclude the relevant entries before the concat operation.\n",
      "  company_data = pd.concat([company_data, data], ignore_index=True)\n",
      "C:\\Users\\hurdg\\AppData\\Local\\Temp\\ipykernel_88304\\2041124615.py:21: FutureWarning: The behavior of DataFrame concatenation with empty or all-NA entries is deprecated. In a future version, this will no longer exclude empty or all-NA columns when determining the result dtypes. To retain the old behavior, exclude the relevant entries before the concat operation.\n",
      "  company_data = pd.concat([company_data, data], ignore_index=True)\n",
      "C:\\Users\\hurdg\\AppData\\Local\\Temp\\ipykernel_88304\\2041124615.py:21: FutureWarning: The behavior of DataFrame concatenation with empty or all-NA entries is deprecated. In a future version, this will no longer exclude empty or all-NA columns when determining the result dtypes. To retain the old behavior, exclude the relevant entries before the concat operation.\n",
      "  company_data = pd.concat([company_data, data], ignore_index=True)\n"
     ]
    },
    {
     "name": "stdout",
     "output_type": "stream",
     "text": [
      "110\n",
      "111\n",
      "112\n",
      "company data not found\n",
      "company datat not found again\n",
      "114\n",
      "115\n",
      "116\n",
      "117\n",
      "118\n",
      "119\n",
      "120\n",
      "121\n",
      "122\n",
      "123\n",
      "124\n",
      "125\n",
      "126\n",
      "127\n",
      "128\n",
      "129\n",
      "FinanceLeaseLiabilityNoncurrentnot found\n",
      "130\n",
      "company data not found\n",
      "company datat not found again\n",
      "132\n",
      "133\n",
      "134\n",
      "company data not found\n",
      "company datat not found again\n",
      "company data not found\n",
      "company datat not found again\n",
      "137\n",
      "138\n",
      "139\n",
      "140\n",
      "141\n",
      "company data not found\n",
      "company datat not found again\n",
      "143\n",
      "144\n",
      "145\n",
      "company data not found\n",
      "company datat not found again\n",
      "147\n",
      "company data not found\n",
      "company datat not found again\n",
      "149\n",
      "company data not found\n",
      "company datat not found again\n",
      "151\n",
      "152\n",
      "153\n",
      "154\n",
      "155\n",
      "company data not found\n",
      "company datat not found again\n",
      "company datat not found again\n",
      "company data not found\n",
      "company datat not found again\n",
      "company data not found\n",
      "company datat not found again\n"
     ]
    }
   ],
   "source": [
    "EDGAR_data = pd.DataFrame()\n",
    "\n",
    "for i in range(len(tickers_cik)):\n",
    "#for i in [10,11,12,13]:\n",
    "    cik=tickers_cik['cik_str'][i]\n",
    "    ticker = tickers_cik['ticker'][i]\n",
    "    title = tickers_cik['title'][i]\n",
    "\n",
    "    #company_data = EDGAR_query(cik=cik, tag = [\"RevenueFromContractWithCustomerExcludingAssessedTax\"], header=header)\n",
    "    try:\n",
    "        company_data = EDGAR_query(cik=cik, header=header)\n",
    "        company_data['cik'] = cik\n",
    "        company_data['ticker']= ticker\n",
    "        company_data['title'] = title\n",
    "    \n",
    "        #Filter quarterly\n",
    "        try:\n",
    "            company_data= company_data[company_data['frame'].str.contains('Q') == True]\n",
    "        except:\n",
    "            print('frame not a column')\n",
    "        \n",
    "        EDGAR_data=pd.concat([EDGAR_data, company_data], ignore_index=True)\n",
    "        print(i)\n",
    "    except:\n",
    "        print(\"company datat not found again\")\n",
    "    time.sleep(0.015)\n",
    "\n",
    "#EDGAR_data.to_csv('EDGAR_data.csv')"
   ]
  },
  {
   "cell_type": "code",
   "execution_count": 25,
   "metadata": {},
   "outputs": [
    {
     "name": "stderr",
     "output_type": "stream",
     "text": [
      "C:\\Users\\hurdg\\AppData\\Local\\Temp\\ipykernel_41028\\111270565.py:4: SettingWithCopyWarning: \n",
      "A value is trying to be set on a copy of a slice from a DataFrame.\n",
      "Try using .loc[row_indexer,col_indexer] = value instead\n",
      "\n",
      "See the caveats in the documentation: https://pandas.pydata.org/pandas-docs/stable/user_guide/indexing.html#returning-a-view-versus-a-copy\n",
      "  AAPL_netinc['frame'] = AAPL_netinc['frame'].str.replace('CY','')\n",
      "C:\\Users\\hurdg\\AppData\\Local\\Temp\\ipykernel_41028\\111270565.py:5: SettingWithCopyWarning: \n",
      "A value is trying to be set on a copy of a slice from a DataFrame.\n",
      "Try using .loc[row_indexer,col_indexer] = value instead\n",
      "\n",
      "See the caveats in the documentation: https://pandas.pydata.org/pandas-docs/stable/user_guide/indexing.html#returning-a-view-versus-a-copy\n",
      "  AAPL_netinc['val_billions']=AAPL_netinc['val']/1000000000\n"
     ]
    },
    {
     "ename": "AttributeError",
     "evalue": "'Axes' object has no attribute 'show'",
     "output_type": "error",
     "traceback": [
      "\u001b[1;31m---------------------------------------------------------------------------\u001b[0m",
      "\u001b[1;31mAttributeError\u001b[0m                            Traceback (most recent call last)",
      "\u001b[1;32mc:\\Users\\hurdg\\Documents\\Investments\\Charting.ipynb Cell 8\u001b[0m line \u001b[0;36m1\n\u001b[0;32m      <a href='vscode-notebook-cell:/c%3A/Users/hurdg/Documents/Investments/Charting.ipynb#X51sZmlsZQ%3D%3D?line=7'>8</a>\u001b[0m fig\u001b[39m=\u001b[39msns\u001b[39m.\u001b[39mlineplot(data\u001b[39m=\u001b[39mAAPL_netinc, x\u001b[39m=\u001b[39m\u001b[39m'\u001b[39m\u001b[39mframe\u001b[39m\u001b[39m'\u001b[39m, y\u001b[39m=\u001b[39m\u001b[39m'\u001b[39m\u001b[39mval_billions\u001b[39m\u001b[39m'\u001b[39m)\n\u001b[0;32m      <a href='vscode-notebook-cell:/c%3A/Users/hurdg/Documents/Investments/Charting.ipynb#X51sZmlsZQ%3D%3D?line=8'>9</a>\u001b[0m fig\u001b[39m.\u001b[39mset(xlabel\u001b[39m=\u001b[39m\u001b[39m'\u001b[39m\u001b[39mQuarter\u001b[39m\u001b[39m'\u001b[39m, ylabel\u001b[39m=\u001b[39m\u001b[39m'\u001b[39m\u001b[39mNet Income (billions USD)\u001b[39m\u001b[39m'\u001b[39m, title\u001b[39m=\u001b[39m\u001b[39m'\u001b[39m\u001b[39mAAPL\u001b[39m\u001b[39m'\u001b[39m)\n\u001b[1;32m---> <a href='vscode-notebook-cell:/c%3A/Users/hurdg/Documents/Investments/Charting.ipynb#X51sZmlsZQ%3D%3D?line=9'>10</a>\u001b[0m fig\u001b[39m.\u001b[39;49mshow()\n",
      "\u001b[1;31mAttributeError\u001b[0m: 'Axes' object has no attribute 'show'"
     ]
    },
    {
     "data": {
      "image/png": "[encoded data removed]",
      "text/plain": [
       "<Figure size 640x480 with 1 Axes>"
      ]
     },
     "metadata": {},
     "output_type": "display_data"
    }
   ],
   "source": [
    "#EDGAR_data = pd.read_csv('EDGAR_data.csv')\n",
    "AAPL_data = EDGAR_data[EDGAR_data['ticker']=='AAPL'].copy()\n",
    "AAPL_netinc = AAPL_data[AAPL_data['tag']=='NetIncomeLoss']\n",
    "AAPL_netinc['frame'] = AAPL_netinc['frame'].str.replace('CY','')\n",
    "AAPL_netinc['val_billions']=AAPL_netinc['val']/1000000000\n",
    "\n",
    "sns.set_theme(style='darkgrid')\n",
    "fig=sns.lineplot(data=AAPL_netinc, x='frame', y='val_billions')\n",
    "fig.set(xlabel='Quarter', ylabel='Net Income (billions USD)', title='AAPL')\n",
    "fig.show()"
   ]
  },
  {
   "cell_type": "markdown",
   "metadata": {},
   "source": [
    "## Dashboard"
   ]
  },
  {
   "cell_type": "code",
   "execution_count": 28,
   "metadata": {},
   "outputs": [],
   "source": [
    "import pandas as pd\n",
    "import plotly.express as px"
   ]
  },
  {
   "cell_type": "code",
   "execution_count": 62,
   "metadata": {},
   "outputs": [
    {
     "name": "stderr",
     "output_type": "stream",
     "text": [
      "C:\\Users\\hurdg\\AppData\\Local\\Temp\\ipykernel_41028\\117602065.py:5: SettingWithCopyWarning:\n",
      "\n",
      "\n",
      "A value is trying to be set on a copy of a slice from a DataFrame.\n",
      "Try using .loc[row_indexer,col_indexer] = value instead\n",
      "\n",
      "See the caveats in the documentation: https://pandas.pydata.org/pandas-docs/stable/user_guide/indexing.html#returning-a-view-versus-a-copy\n",
      "\n",
      "C:\\Users\\hurdg\\AppData\\Local\\Temp\\ipykernel_41028\\117602065.py:6: SettingWithCopyWarning:\n",
      "\n",
      "\n",
      "A value is trying to be set on a copy of a slice from a DataFrame.\n",
      "Try using .loc[row_indexer,col_indexer] = value instead\n",
      "\n",
      "See the caveats in the documentation: https://pandas.pydata.org/pandas-docs/stable/user_guide/indexing.html#returning-a-view-versus-a-copy\n",
      "\n"
     ]
    },
    {
     "data": {
      "application/vnd.plotly.v1+json": {
       "config": {
        "plotlyServerURL": "https://plot.ly"
       },
       "data": [
        {
         "hovertemplate": "ticker=AAPL<br>frame=%{x}<br>val_billions=%{y}<extra></extra>",
         "legendgroup": "AAPL",
         "line": {
          "color": "#636efa",
          "dash": "solid"
         },
         "marker": {
          "symbol": "circle"
         },
         "mode": "lines",
         "name": "AAPL",
         "orientation": "v",
         "showlegend": true,
         "type": "scatter",
         "x": [
          "2008Q2",
          "2008Q4",
          "2009Q1",
          "2009Q2",
          "2009Q3",
          "2009Q4",
          "2010Q1",
          "2010Q2",
          "2010Q3",
          "2010Q4",
          "2011Q1",
          "2011Q2",
          "2011Q3",
          "2011Q4",
          "2012Q1",
          "2012Q2",
          "2012Q3",
          "2012Q4",
          "2013Q1",
          "2013Q2",
          "2013Q3",
          "2013Q4",
          "2014Q1",
          "2014Q2",
          "2014Q3",
          "2014Q4",
          "2015Q1",
          "2015Q2",
          "2015Q3",
          "2015Q4",
          "2016Q1",
          "2016Q2",
          "2016Q3",
          "2016Q4",
          "2017Q1",
          "2017Q2",
          "2017Q3",
          "2017Q4",
          "2018Q1",
          "2018Q2",
          "2018Q3",
          "2018Q4",
          "2019Q1",
          "2019Q2",
          "2019Q3",
          "2019Q4",
          "2020Q1",
          "2020Q2",
          "2020Q3",
          "2020Q4",
          "2021Q1",
          "2021Q2",
          "2021Q4",
          "2022Q1",
          "2022Q2",
          "2022Q4",
          "2023Q1",
          "2023Q2"
         ],
         "xaxis": "x",
         "y": [
          1.072,
          2.255,
          1.62,
          1.828,
          2.532,
          3.378,
          3.074,
          3.253,
          4.308,
          6.004,
          5.987,
          7.308,
          6.623,
          13.064,
          11.622,
          8.824,
          8.223,
          13.078,
          9.547,
          6.9,
          7.512,
          13.072,
          10.223,
          7.748,
          8.467,
          18.024,
          13.569,
          10.677,
          11.124,
          18.361,
          10.516,
          7.796,
          9.014,
          17.891,
          11.029,
          8.717,
          10.714,
          20.065,
          13.822,
          11.519,
          14.125,
          19.965,
          11.561,
          10.044,
          13.686,
          22.236,
          11.249,
          11.253,
          12.673,
          28.755,
          23.63,
          21.744,
          34.63,
          25.01,
          19.442,
          29.998,
          24.16,
          19.881
         ],
         "yaxis": "y"
        },
        {
         "hovertemplate": "ticker=MSFT<br>frame=%{x}<br>val_billions=%{y}<extra></extra>",
         "legendgroup": "MSFT",
         "line": {
          "color": "#EF553B",
          "dash": "solid"
         },
         "marker": {
          "symbol": "circle"
         },
         "mode": "lines",
         "name": "MSFT",
         "orientation": "v",
         "showlegend": true,
         "type": "scatter",
         "x": [
          "2007Q3",
          "2007Q4",
          "2008Q1",
          "2008Q2",
          "2008Q3",
          "2008Q4",
          "2009Q1",
          "2009Q2",
          "2009Q3",
          "2009Q4",
          "2010Q1",
          "2010Q2",
          "2010Q3",
          "2010Q4",
          "2011Q1",
          "2011Q2",
          "2011Q3",
          "2011Q4",
          "2012Q1",
          "2012Q2",
          "2012Q3",
          "2012Q4",
          "2013Q1",
          "2013Q2",
          "2013Q3",
          "2013Q4",
          "2014Q1",
          "2014Q2",
          "2014Q3",
          "2014Q4",
          "2015Q1",
          "2015Q2",
          "2015Q3",
          "2015Q4",
          "2016Q1",
          "2016Q2",
          "2016Q3",
          "2016Q4",
          "2017Q1",
          "2017Q2",
          "2017Q3",
          "2017Q4",
          "2018Q1",
          "2018Q2",
          "2018Q3",
          "2018Q4",
          "2019Q1",
          "2019Q2",
          "2019Q3",
          "2019Q4",
          "2020Q1",
          "2020Q2",
          "2020Q3",
          "2020Q4",
          "2021Q1",
          "2021Q3",
          "2021Q4",
          "2022Q1",
          "2022Q3",
          "2022Q4",
          "2023Q1",
          "2023Q3"
         ],
         "xaxis": "x",
         "y": [
          4.289,
          4.707,
          4.388,
          4.297,
          4.373,
          4.174,
          2.977,
          3.045,
          3.574,
          6.662,
          4.006,
          4.518,
          5.41,
          6.634,
          5.232,
          5.874,
          5.738,
          6.624,
          5.108,
          -0.492,
          4.466,
          6.377,
          6.055,
          4.965,
          5.244,
          6.558,
          5.66,
          4.612,
          4.54,
          5.863,
          4.985,
          -3.195,
          4.902,
          5.018,
          3.756,
          3.122,
          5.667,
          6.267,
          5.486,
          8.069,
          6.576,
          -6.302,
          7.424,
          8.873,
          8.824,
          8.42,
          8.809,
          13.187,
          10.678,
          11.649,
          10.752,
          11.202,
          13.893,
          15.463,
          15.457,
          20.505,
          18.765,
          16.728,
          17.556,
          16.425,
          18.299,
          22.291
         ],
         "yaxis": "y"
        }
       ],
       "layout": {
        "legend": {
         "title": {
          "text": "ticker"
         },
         "tracegroupgap": 0
        },
        "margin": {
         "t": 60
        },
        "template": {
         "data": {
          "bar": [
           {
            "error_x": {
             "color": "#2a3f5f"
            },
            "error_y": {
             "color": "#2a3f5f"
            },
            "marker": {
             "line": {
              "color": "#E5ECF6",
              "width": 0.5
             },
             "pattern": {
              "fillmode": "overlay",
              "size": 10,
              "solidity": 0.2
             }
            },
            "type": "bar"
           }
          ],
          "barpolar": [
           {
            "marker": {
             "line": {
              "color": "#E5ECF6",
              "width": 0.5
             },
             "pattern": {
              "fillmode": "overlay",
              "size": 10,
              "solidity": 0.2
             }
            },
            "type": "barpolar"
           }
          ],
          "carpet": [
           {
            "aaxis": {
             "endlinecolor": "#2a3f5f",
             "gridcolor": "white",
             "linecolor": "white",
             "minorgridcolor": "white",
             "startlinecolor": "#2a3f5f"
            },
            "baxis": {
             "endlinecolor": "#2a3f5f",
             "gridcolor": "white",
             "linecolor": "white",
             "minorgridcolor": "white",
             "startlinecolor": "#2a3f5f"
            },
            "type": "carpet"
           }
          ],
          "choropleth": [
           {
            "colorbar": {
             "outlinewidth": 0,
             "ticks": ""
            },
            "type": "choropleth"
           }
          ],
          "contour": [
           {
            "colorbar": {
             "outlinewidth": 0,
             "ticks": ""
            },
            "colorscale": [
             [
              0,
              "#0d0887"
             ],
             [
              0.1111111111111111,
              "#46039f"
             ],
             [
              0.2222222222222222,
              "#7201a8"
             ],
             [
              0.3333333333333333,
              "#9c179e"
             ],
             [
              0.4444444444444444,
              "#bd3786"
             ],
             [
              0.5555555555555556,
              "#d8576b"
             ],
             [
              0.6666666666666666,
              "#ed7953"
             ],
             [
              0.7777777777777778,
              "#fb9f3a"
             ],
             [
              0.8888888888888888,
              "#fdca26"
             ],
             [
              1,
              "#f0f921"
             ]
            ],
            "type": "contour"
           }
          ],
          "contourcarpet": [
           {
            "colorbar": {
             "outlinewidth": 0,
             "ticks": ""
            },
            "type": "contourcarpet"
           }
          ],
          "heatmap": [
           {
            "colorbar": {
             "outlinewidth": 0,
             "ticks": ""
            },
            "colorscale": [
             [
              0,
              "#0d0887"
             ],
             [
              0.1111111111111111,
              "#46039f"
             ],
             [
              0.2222222222222222,
              "#7201a8"
             ],
             [
              0.3333333333333333,
              "#9c179e"
             ],
             [
              0.4444444444444444,
              "#bd3786"
             ],
             [
              0.5555555555555556,
              "#d8576b"
             ],
             [
              0.6666666666666666,
              "#ed7953"
             ],
             [
              0.7777777777777778,
              "#fb9f3a"
             ],
             [
              0.8888888888888888,
              "#fdca26"
             ],
             [
              1,
              "#f0f921"
             ]
            ],
            "type": "heatmap"
           }
          ],
          "heatmapgl": [
           {
            "colorbar": {
             "outlinewidth": 0,
             "ticks": ""
            },
            "colorscale": [
             [
              0,
              "#0d0887"
             ],
             [
              0.1111111111111111,
              "#46039f"
             ],
             [
              0.2222222222222222,
              "#7201a8"
             ],
             [
              0.3333333333333333,
              "#9c179e"
             ],
             [
              0.4444444444444444,
              "#bd3786"
             ],
             [
              0.5555555555555556,
              "#d8576b"
             ],
             [
              0.6666666666666666,
              "#ed7953"
             ],
             [
              0.7777777777777778,
              "#fb9f3a"
             ],
             [
              0.8888888888888888,
              "#fdca26"
             ],
             [
              1,
              "#f0f921"
             ]
            ],
            "type": "heatmapgl"
           }
          ],
          "histogram": [
           {
            "marker": {
             "pattern": {
              "fillmode": "overlay",
              "size": 10,
              "solidity": 0.2
             }
            },
            "type": "histogram"
           }
          ],
          "histogram2d": [
           {
            "colorbar": {
             "outlinewidth": 0,
             "ticks": ""
            },
            "colorscale": [
             [
              0,
              "#0d0887"
             ],
             [
              0.1111111111111111,
              "#46039f"
             ],
             [
              0.2222222222222222,
              "#7201a8"
             ],
             [
              0.3333333333333333,
              "#9c179e"
             ],
             [
              0.4444444444444444,
              "#bd3786"
             ],
             [
              0.5555555555555556,
              "#d8576b"
             ],
             [
              0.6666666666666666,
              "#ed7953"
             ],
             [
              0.7777777777777778,
              "#fb9f3a"
             ],
             [
              0.8888888888888888,
              "#fdca26"
             ],
             [
              1,
              "#f0f921"
             ]
            ],
            "type": "histogram2d"
           }
          ],
          "histogram2dcontour": [
           {
            "colorbar": {
             "outlinewidth": 0,
             "ticks": ""
            },
            "colorscale": [
             [
              0,
              "#0d0887"
             ],
             [
              0.1111111111111111,
              "#46039f"
             ],
             [
              0.2222222222222222,
              "#7201a8"
             ],
             [
              0.3333333333333333,
              "#9c179e"
             ],
             [
              0.4444444444444444,
              "#bd3786"
             ],
             [
              0.5555555555555556,
              "#d8576b"
             ],
             [
              0.6666666666666666,
              "#ed7953"
             ],
             [
              0.7777777777777778,
              "#fb9f3a"
             ],
             [
              0.8888888888888888,
              "#fdca26"
             ],
             [
              1,
              "#f0f921"
             ]
            ],
            "type": "histogram2dcontour"
           }
          ],
          "mesh3d": [
           {
            "colorbar": {
             "outlinewidth": 0,
             "ticks": ""
            },
            "type": "mesh3d"
           }
          ],
          "parcoords": [
           {
            "line": {
             "colorbar": {
              "outlinewidth": 0,
              "ticks": ""
             }
            },
            "type": "parcoords"
           }
          ],
          "pie": [
           {
            "automargin": true,
            "type": "pie"
           }
          ],
          "scatter": [
           {
            "fillpattern": {
             "fillmode": "overlay",
             "size": 10,
             "solidity": 0.2
            },
            "type": "scatter"
           }
          ],
          "scatter3d": [
           {
            "line": {
             "colorbar": {
              "outlinewidth": 0,
              "ticks": ""
             }
            },
            "marker": {
             "colorbar": {
              "outlinewidth": 0,
              "ticks": ""
             }
            },
            "type": "scatter3d"
           }
          ],
          "scattercarpet": [
           {
            "marker": {
             "colorbar": {
              "outlinewidth": 0,
              "ticks": ""
             }
            },
            "type": "scattercarpet"
           }
          ],
          "scattergeo": [
           {
            "marker": {
             "colorbar": {
              "outlinewidth": 0,
              "ticks": ""
             }
            },
            "type": "scattergeo"
           }
          ],
          "scattergl": [
           {
            "marker": {
             "colorbar": {
              "outlinewidth": 0,
              "ticks": ""
             }
            },
            "type": "scattergl"
           }
          ],
          "scattermapbox": [
           {
            "marker": {
             "colorbar": {
              "outlinewidth": 0,
              "ticks": ""
             }
            },
            "type": "scattermapbox"
           }
          ],
          "scatterpolar": [
           {
            "marker": {
             "colorbar": {
              "outlinewidth": 0,
              "ticks": ""
             }
            },
            "type": "scatterpolar"
           }
          ],
          "scatterpolargl": [
           {
            "marker": {
             "colorbar": {
              "outlinewidth": 0,
              "ticks": ""
             }
            },
            "type": "scatterpolargl"
           }
          ],
          "scatterternary": [
           {
            "marker": {
             "colorbar": {
              "outlinewidth": 0,
              "ticks": ""
             }
            },
            "type": "scatterternary"
           }
          ],
          "surface": [
           {
            "colorbar": {
             "outlinewidth": 0,
             "ticks": ""
            },
            "colorscale": [
             [
              0,
              "#0d0887"
             ],
             [
              0.1111111111111111,
              "#46039f"
             ],
             [
              0.2222222222222222,
              "#7201a8"
             ],
             [
              0.3333333333333333,
              "#9c179e"
             ],
             [
              0.4444444444444444,
              "#bd3786"
             ],
             [
              0.5555555555555556,
              "#d8576b"
             ],
             [
              0.6666666666666666,
              "#ed7953"
             ],
             [
              0.7777777777777778,
              "#fb9f3a"
             ],
             [
              0.8888888888888888,
              "#fdca26"
             ],
             [
              1,
              "#f0f921"
             ]
            ],
            "type": "surface"
           }
          ],
          "table": [
           {
            "cells": {
             "fill": {
              "color": "#EBF0F8"
             },
             "line": {
              "color": "white"
             }
            },
            "header": {
             "fill": {
              "color": "#C8D4E3"
             },
             "line": {
              "color": "white"
             }
            },
            "type": "table"
           }
          ]
         },
         "layout": {
          "annotationdefaults": {
           "arrowcolor": "#2a3f5f",
           "arrowhead": 0,
           "arrowwidth": 1
          },
          "autotypenumbers": "strict",
          "coloraxis": {
           "colorbar": {
            "outlinewidth": 0,
            "ticks": ""
           }
          },
          "colorscale": {
           "diverging": [
            [
             0,
             "#8e0152"
            ],
            [
             0.1,
             "#c51b7d"
            ],
            [
             0.2,
             "#de77ae"
            ],
            [
             0.3,
             "#f1b6da"
            ],
            [
             0.4,
             "#fde0ef"
            ],
            [
             0.5,
             "#f7f7f7"
            ],
            [
             0.6,
             "#e6f5d0"
            ],
            [
             0.7,
             "#b8e186"
            ],
            [
             0.8,
             "#7fbc41"
            ],
            [
             0.9,
             "#4d9221"
            ],
            [
             1,
             "#276419"
            ]
           ],
           "sequential": [
            [
             0,
             "#0d0887"
            ],
            [
             0.1111111111111111,
             "#46039f"
            ],
            [
             0.2222222222222222,
             "#7201a8"
            ],
            [
             0.3333333333333333,
             "#9c179e"
            ],
            [
             0.4444444444444444,
             "#bd3786"
            ],
            [
             0.5555555555555556,
             "#d8576b"
            ],
            [
             0.6666666666666666,
             "#ed7953"
            ],
            [
             0.7777777777777778,
             "#fb9f3a"
            ],
            [
             0.8888888888888888,
             "#fdca26"
            ],
            [
             1,
             "#f0f921"
            ]
           ],
           "sequentialminus": [
            [
             0,
             "#0d0887"
            ],
            [
             0.1111111111111111,
             "#46039f"
            ],
            [
             0.2222222222222222,
             "#7201a8"
            ],
            [
             0.3333333333333333,
             "#9c179e"
            ],
            [
             0.4444444444444444,
             "#bd3786"
            ],
            [
             0.5555555555555556,
             "#d8576b"
            ],
            [
             0.6666666666666666,
             "#ed7953"
            ],
            [
             0.7777777777777778,
             "#fb9f3a"
            ],
            [
             0.8888888888888888,
             "#fdca26"
            ],
            [
             1,
             "#f0f921"
            ]
           ]
          },
          "colorway": [
           "#636efa",
           "#EF553B",
           "#00cc96",
           "#ab63fa",
           "#FFA15A",
           "#19d3f3",
           "#FF6692",
           "#B6E880",
           "#FF97FF",
           "#FECB52"
          ],
          "font": {
           "color": "#2a3f5f"
          },
          "geo": {
           "bgcolor": "white",
           "lakecolor": "white",
           "landcolor": "#E5ECF6",
           "showlakes": true,
           "showland": true,
           "subunitcolor": "white"
          },
          "hoverlabel": {
           "align": "left"
          },
          "hovermode": "closest",
          "mapbox": {
           "style": "light"
          },
          "paper_bgcolor": "white",
          "plot_bgcolor": "#E5ECF6",
          "polar": {
           "angularaxis": {
            "gridcolor": "white",
            "linecolor": "white",
            "ticks": ""
           },
           "bgcolor": "#E5ECF6",
           "radialaxis": {
            "gridcolor": "white",
            "linecolor": "white",
            "ticks": ""
           }
          },
          "scene": {
           "xaxis": {
            "backgroundcolor": "#E5ECF6",
            "gridcolor": "white",
            "gridwidth": 2,
            "linecolor": "white",
            "showbackground": true,
            "ticks": "",
            "zerolinecolor": "white"
           },
           "yaxis": {
            "backgroundcolor": "#E5ECF6",
            "gridcolor": "white",
            "gridwidth": 2,
            "linecolor": "white",
            "showbackground": true,
            "ticks": "",
            "zerolinecolor": "white"
           },
           "zaxis": {
            "backgroundcolor": "#E5ECF6",
            "gridcolor": "white",
            "gridwidth": 2,
            "linecolor": "white",
            "showbackground": true,
            "ticks": "",
            "zerolinecolor": "white"
           }
          },
          "shapedefaults": {
           "line": {
            "color": "#2a3f5f"
           }
          },
          "ternary": {
           "aaxis": {
            "gridcolor": "white",
            "linecolor": "white",
            "ticks": ""
           },
           "baxis": {
            "gridcolor": "white",
            "linecolor": "white",
            "ticks": ""
           },
           "bgcolor": "#E5ECF6",
           "caxis": {
            "gridcolor": "white",
            "linecolor": "white",
            "ticks": ""
           }
          },
          "title": {
           "x": 0.05
          },
          "xaxis": {
           "automargin": true,
           "gridcolor": "white",
           "linecolor": "white",
           "ticks": "",
           "title": {
            "standoff": 15
           },
           "zerolinecolor": "white",
           "zerolinewidth": 2
          },
          "yaxis": {
           "automargin": true,
           "gridcolor": "white",
           "linecolor": "white",
           "ticks": "",
           "title": {
            "standoff": 15
           },
           "zerolinecolor": "white",
           "zerolinewidth": 2
          }
         }
        },
        "xaxis": {
         "anchor": "y",
         "domain": [
          0,
          1
         ],
         "title": {
          "text": "frame"
         }
        },
        "yaxis": {
         "anchor": "x",
         "domain": [
          0,
          1
         ],
         "title": {
          "text": "val_billions"
         }
        }
       }
      }
     },
     "metadata": {},
     "output_type": "display_data"
    }
   ],
   "source": [
    "EDGAR_data = pd.read_csv('EDGAR_data_alltags.csv')\n",
    "\n",
    "AAPL_data = EDGAR_data[(EDGAR_data['ticker'] =='MSFT') | (EDGAR_data['ticker'] =='AAPL')].copy()\n",
    "AAPL_netinc = AAPL_data[AAPL_data['tag']=='NetIncomeLoss']\n",
    "AAPL_netinc['frame'] = AAPL_netinc['frame'].str.replace('CY','')\n",
    "AAPL_netinc['val_billions']=AAPL_netinc['val']/1000000000\n",
    "\n",
    "px.line(AAPL_netinc, x='frame', y='val_billions', color = 'ticker')"
   ]
  },
  {
   "cell_type": "code",
   "execution_count": 1,
   "metadata": {},
   "outputs": [
    {
     "ename": "ModuleNotFoundError",
     "evalue": "No module named 'src'",
     "output_type": "error",
     "traceback": [
      "\u001b[1;31m---------------------------------------------------------------------------\u001b[0m",
      "\u001b[1;31mModuleNotFoundError\u001b[0m                       Traceback (most recent call last)",
      "\u001b[1;32mc:\\Users\\hurdg\\Documents\\Investments\\Charting.ipynb Cell 12\u001b[0m line \u001b[0;36m4\n\u001b[0;32m      <a href='vscode-notebook-cell:/c%3A/Users/hurdg/Documents/Investments/Charting.ipynb#Y103sZmlsZQ%3D%3D?line=0'>1</a>\u001b[0m \u001b[39mfrom\u001b[39;00m \u001b[39mdash\u001b[39;00m \u001b[39mimport\u001b[39;00m Dash\n\u001b[0;32m      <a href='vscode-notebook-cell:/c%3A/Users/hurdg/Documents/Investments/Charting.ipynb#Y103sZmlsZQ%3D%3D?line=1'>2</a>\u001b[0m \u001b[39mfrom\u001b[39;00m \u001b[39mdash_bootstrap_components\u001b[39;00m\u001b[39m.\u001b[39;00m\u001b[39mthemes\u001b[39;00m \u001b[39mimport\u001b[39;00m BOOTSTRAP\n\u001b[1;32m----> <a href='vscode-notebook-cell:/c%3A/Users/hurdg/Documents/Investments/Charting.ipynb#Y103sZmlsZQ%3D%3D?line=3'>4</a>\u001b[0m \u001b[39mfrom\u001b[39;00m \u001b[39msrc\u001b[39;00m\u001b[39m.\u001b[39;00m\u001b[39mcomponents\u001b[39;00m\u001b[39m.\u001b[39;00m\u001b[39mlayout\u001b[39;00m \u001b[39mimport\u001b[39;00m create_layout\n\u001b[0;32m      <a href='vscode-notebook-cell:/c%3A/Users/hurdg/Documents/Investments/Charting.ipynb#Y103sZmlsZQ%3D%3D?line=6'>7</a>\u001b[0m \u001b[39mdef\u001b[39;00m \u001b[39mmain\u001b[39m() \u001b[39m-\u001b[39m\u001b[39m>\u001b[39m \u001b[39mNone\u001b[39;00m:\n\u001b[0;32m      <a href='vscode-notebook-cell:/c%3A/Users/hurdg/Documents/Investments/Charting.ipynb#Y103sZmlsZQ%3D%3D?line=7'>8</a>\u001b[0m     app \u001b[39m=\u001b[39m Dash(external_stylesheets\u001b[39m=\u001b[39m[BOOTSTRAP])\n",
      "\u001b[1;31mModuleNotFoundError\u001b[0m: No module named 'src'"
     ]
    }
   ],
   "source": [
    "from dash import Dash\n",
    "from dash_bootstrap_components.themes import BOOTSTRAP\n",
    "\n",
    "from src.components.layout import create_layout\n",
    "\n",
    "\n",
    "def main() -> None:\n",
    "    app = Dash(external_stylesheets=[BOOTSTRAP])\n",
    "    app.title = \"Medal dashboard\"\n",
    "    app.layout = create_layout(app)\n",
    "    app.run()\n",
    "\n",
    "\n",
    "if __name__ == \"__main__\":\n",
    "    main()"
   ]
  },
  {
   "cell_type": "markdown",
   "metadata": {},
   "source": [
    "# With SEC-API module\n",
    "subscription required"
   ]
  },
  {
   "cell_type": "code",
   "execution_count": null,
   "metadata": {},
   "outputs": [],
   "source": [
    "#SEC.io\n",
    "#https://medium.com/@jan_5421/extracting-financial-statements-from-sec-filings-xbrl-to-json-f83542ade90\n",
    "\n",
    "import requests\n",
    "import json\n",
    "import pandas as pd\n",
    "\n",
    "# 10-Q filing URL of Apple\n",
    "filing_url = \"https://www.sec.gov/Archives/edgar/data/320193/000032019321000056/aapl-20210327.htm\"\n",
    "\n",
    "# XBRL-to-JSON converter API endpoint\n",
    "xbrl_converter_api_endpoint = \"https://api.sec-api.io/xbrl-to-json\"\n",
    "\n",
    "# get your API key at https://sec-api.io\n",
    "api_key = \"84095f4d03ac1fae2dfb5832934d211c6f4db7f24a2985cd0bd4f37f0d976458\"\n",
    "\n",
    "final_url = xbrl_converter_api_endpoint + \"?htm-url=\" + filing_url + \"&token=\" + api_key\n",
    "\n",
    "# make request to the API\n",
    "response = requests.get(final_url)\n",
    "\n",
    "# load JSON into memory\n",
    "xbrl_json = json.loads(response.text)\n",
    "\n",
    "# income statement example\n",
    "print(xbrl_json['StatementsOfIncome'])"
   ]
  },
  {
   "cell_type": "code",
   "execution_count": null,
   "metadata": {},
   "outputs": [],
   "source": [
    "# convert XBRL-JSON of income statement to pandas dataframe\n",
    "def get_income_statement(xbrl_json):\n",
    "    income_statement_store = {}\n",
    "\n",
    "    # iterate over each US GAAP item in the income statement\n",
    "    for usGaapItem in xbrl_json['StatementsOfIncome']:\n",
    "        values = []\n",
    "        indicies = []\n",
    "\n",
    "        for fact in xbrl_json['StatementsOfIncome'][usGaapItem]:\n",
    "            # only consider items without segment. not required for our analysis.\n",
    "            if 'segment' not in fact:\n",
    "                index = fact['period']['startDate'] + '-' + fact['period']['endDate']\n",
    "                # ensure no index duplicates are created\n",
    "                if index not in indicies:\n",
    "                    values.append(fact['value'])\n",
    "                    indicies.append(index)                    \n",
    "\n",
    "        income_statement_store[usGaapItem] = pd.Series(values, index=indicies) \n",
    "\n",
    "    income_statement = pd.DataFrame(income_statement_store)\n",
    "    # switch columns and rows so that US GAAP items are rows and each column header represents a date range\n",
    "    return income_statement.T \n",
    "\n",
    "income_statement = get_income_statement(xbrl_json)"
   ]
  },
  {
   "cell_type": "markdown",
   "metadata": {},
   "source": [
    "First, we use the query API provided by SEC API to list all most recent 10-Q and 10-K filings filed by Apple.\n"
   ]
  },
  {
   "cell_type": "code",
   "execution_count": null,
   "metadata": {},
   "outputs": [],
   "source": [
    "from sec_api import QueryApi\n",
    "\n",
    "api_key = \"84095f4d03ac1fae2dfb5832934d211c6f4db7f24a2985cd0bd4f37f0d976458\"\n",
    "ticker = \"AAPL\"\n",
    "\n",
    "# get your API key at https://sec-api.io\n",
    "query_api = QueryApi(api_key=api_key)\n",
    "\n",
    "\n",
    "# fetch all 10-Q and 10-K filings for Apple\n",
    "query = {\n",
    "    \"query\": {\n",
    "        \"query_string\": {\n",
    "            \"query\": f\"(formType:\\\"10-Q\\\" OR formType:\\\"10-K\\\") AND ticker:{ticker}\"\n",
    "        }\n",
    "    },\n",
    "    \"from\": \"0\",\n",
    "    \"size\": \"20\",\n",
    "    \"sort\": [{ \"filedAt\": { \"order\": \"desc\" } }]\n",
    "}\n",
    "\n",
    "query_result = query_api.get_filings(query)"
   ]
  },
  {
   "cell_type": "markdown",
   "metadata": {},
   "source": [
    "Then, we extract all accession numbers of each filing."
   ]
  },
  {
   "cell_type": "code",
   "execution_count": null,
   "metadata": {},
   "outputs": [],
   "source": [
    "accession_numbers = []\n",
    "\n",
    "# extract accession numbers of each filing\n",
    "for filing in query_result['filings']:\n",
    "    accession_numbers.append(filing['accessionNo']);\n"
   ]
  },
  {
   "cell_type": "markdown",
   "metadata": {},
   "source": [
    "Now we define a helper function to get the XBRL-JSON version of a filing by providing its accession number. We add a simple backoff strategy to our helper to avoid overloading the SEC API with too many requests per second. In case we send too many requests and the response fails, we just wait for 500 milliseconds and retry the same request. That’s helpful when we download multiple quarterly and annual statements back to back so that we can merge them into one big statement."
   ]
  },
  {
   "cell_type": "code",
   "execution_count": null,
   "metadata": {},
   "outputs": [],
   "source": [
    "import time\n",
    "\n",
    "# get XBRL-JSON for a given accession number\n",
    "def get_xbrl_json(accession_no, retry = 0):\n",
    "    request_url = xbrl_converter_api_endpoint + \"?accession-no=\" + accession_no + \"&token=\" + api_key\n",
    "\n",
    "    # linear backoff in case API fails with \"too many requests\" error\n",
    "    try:\n",
    "      response_tmp = requests.get(request_url)\n",
    "      xbrl_json = json.loads(response_tmp.text)\n",
    "    except:\n",
    "      if retry > 5:\n",
    "        raise Exception('API error')\n",
    "      \n",
    "      # wait 500 milliseconds on error and retry\n",
    "      time.sleep(0.5) \n",
    "      return get_xbrl_json(accession_no, retry + 1)\n",
    "\n",
    "    return xbrl_json"
   ]
  },
  {
   "cell_type": "markdown",
   "metadata": {},
   "source": [
    "Next, we define a function to merge two income statement dataframes into one. We use this merge function to iterate over all 10-K and 10-Q income statements and generate one, large income statement holding all values."
   ]
  },
  {
   "cell_type": "code",
   "execution_count": null,
   "metadata": {},
   "outputs": [],
   "source": [
    "# merge two income statements into one statement.\n",
    "# row indicies of both statements have to be the same\n",
    "# statement_b represents the most recent statement.\n",
    "def merge_income_statements(statement_a, statement_b):\n",
    "    return statement_a.merge(statement_b,\n",
    "                     how=\"outer\", \n",
    "                     on=statement_b.index, \n",
    "                     suffixes=('_left', ''))"
   ]
  },
  {
   "cell_type": "markdown",
   "metadata": {},
   "source": [
    "The cleaning function helps us removing columns we are not interested in, for example columns holding more than 5 NaN values or columns ending with “_left”. The merge function creates a column ending with “_left” if it’s a duplicate column. We also rearrange the columns so that the most recent quarter column sits right and the oldest quarter left."
   ]
  },
  {
   "cell_type": "code",
   "execution_count": null,
   "metadata": {},
   "outputs": [],
   "source": [
    "# clean income statement.\n",
    "# drop duplicate columns (= column name ends with \"_left\"), drop key_0 column, drop columns with +5 NaNs\n",
    "def clean_income_statement(statement):\n",
    "    for column in statement:\n",
    "\n",
    "        # column has more than 5 NaN values\n",
    "        is_nan_column = statement[column].isna().sum() > 5\n",
    "\n",
    "        if column.endswith('_left') or column == 'key_0' or is_nan_column:\n",
    "            statement = statement.drop(column, axis=1)\n",
    "    \n",
    "    # rearrange columns so that first column represents first quarter\n",
    "    # e.g. 2018, 2019, 2020 - and not 2020, 2019, 2018\n",
    "    sorted_columns = sorted(statement.columns.values)\n",
    "    \n",
    "    return statement[sorted_columns]"
   ]
  },
  {
   "cell_type": "markdown",
   "metadata": {},
   "source": [
    "Finally it’s time to build our multi-year income statement. We iterate over all accession numbers, generate the XBRL-JSON version, create an income statement dataframe and merge the newly generated income statement with our global statement. All 10-Q and 10-K income statements are now merged into a single pandas dataframe."
   ]
  },
  {
   "cell_type": "code",
   "execution_count": null,
   "metadata": {},
   "outputs": [],
   "source": [
    "# helps printing dataframes while we generate new income statement\n",
    "from IPython.display import display, HTML\n",
    "\n",
    "previous_income_statement_set = False\n",
    "income_statement_final = None\n",
    "\n",
    "for accession_no in accession_numbers[0:9]:\n",
    "# for accession_no in accession_numbers: # doesn't work with filings filed before 2017 - indicies not equal\n",
    "    print(accession_no)\n",
    "    \n",
    "    # get XBRL-JSON of 10-Q or 10-K filing by accession number\n",
    "    xbrl_json_data = get_xbrl_json(accession_no)\n",
    "    \n",
    "    # convert XBRL-JSON to a pandas dataframe\n",
    "    income_statement_uncleaned = get_income_statement(xbrl_json_data)\n",
    "\n",
    "    # clean the income statement\n",
    "    income_statement_cleaned = clean_income_statement(income_statement_uncleaned)\n",
    "    \n",
    "    # print income statement on each iteration to monitor progress\n",
    "    #display(HTML(income_statement_cleaned.to_html()))\n",
    "    \n",
    "    # merge new income statement with previously generated income statement\n",
    "    if previous_income_statement_set:\n",
    "        income_statement_final = clean_income_statement(merge_income_statements(income_statement_final, income_statement_cleaned))\n",
    "    else:\n",
    "        income_statement_final = income_statement_cleaned\n",
    "        previous_income_statement_set = True"
   ]
  },
  {
   "cell_type": "markdown",
   "metadata": {},
   "source": [
    "Looking closely we see that 4th quarter results are missing. That’s expected because a company only files three times per year a 10-Q filing and once per year a 10-K filing. It’s on us now to calculate the 4th quarter results by using the annual and 9-month results.\n",
    "\n",
    "We start by defining a number converter function. Either we convert a given string to an integer (e.g. net income) or to a float (e.g. earnings per share).\n",
    "\n",
    "The main function iterates over all columns. The function checks if the column represents an annual result (delta.days > 350). If it’s an annual result column, we iterate over all columns and find the column that represents 9-month results starting at the same date as the annual results column.\n",
    "\n",
    "Once discovered, we calculate the 4th quarter results by simply subtracting the 9-month result of a US GAAP item from its annual result.\n",
    "\n",
    "For example:\n",
    "Net Income (4th Quarter) =\n",
    "Net Income (Annually) — Net Income (9-Months)\n",
    "\n",
    "This doesn’t work for Earnings Per Share and Number Of Shares Outstanding. That’s why we calculate such values using the newly calculated values.\n",
    "\n",
    "For example:\n",
    "EarningsPerShareBasic (4th Quarter) =\n",
    "NetIncomeLoss (4th Quarter) / WeightedAverageNumberOfSharesOutstandingBasic (4th Quarter)"
   ]
  },
  {
   "cell_type": "code",
   "execution_count": null,
   "metadata": {},
   "outputs": [],
   "source": [
    "from datetime import datetime\n",
    "\n",
    "# convert string to int or float\n",
    "def num(string):\n",
    "    try:\n",
    "        return int(string)\n",
    "    except ValueError:\n",
    "        return float(string)\n",
    "    \n",
    "# calculate 4th quarter results\n",
    "# 4th quarter results are not reported seperately and have to be calculated using yearly and 9-month results\n",
    "def add_fourth_quarter_results(statement):\n",
    "    for column in statement:\n",
    "\n",
    "        # ['2018', '09', '30', '2019', '09', '28']\n",
    "        date_strings = [a for a in column.split('-')] \n",
    "\n",
    "        d0 = datetime.strptime(date_strings[0] + date_strings[1] + date_strings[2], '%Y%m%d')\n",
    "        d1 = datetime.strptime(date_strings[3] + date_strings[4] + date_strings[5], '%Y%m%d')\n",
    "\n",
    "        delta = d1 - d0\n",
    "\n",
    "        # is annual results column\n",
    "        if delta.days > 350:\n",
    "            for column_1 in statement:\n",
    "                date_strings_1 = [a for a in column_1.split('-')]\n",
    "\n",
    "                d1_0 = datetime.strptime(date_strings_1[0] + date_strings_1[1] + date_strings_1[2], '%Y%m%d')\n",
    "                d1_1 = datetime.strptime(date_strings_1[3] + date_strings_1[4] + date_strings_1[5], '%Y%m%d')\n",
    "\n",
    "                delta_1 = d1_1 - d1_0\n",
    "\n",
    "                # same starting month and 9-month results\n",
    "                # calculate 4th quarter\n",
    "                if d1_0 == d0 and delta_1.days > 200 and delta_1.days < 350:\n",
    "                    fourth_quarter_column_name = column_1[11:] + column[10:]\n",
    "\n",
    "                    fourth_quarter_values = []\n",
    "\n",
    "                    for row_key, row_value in statement[column].iteritems():\n",
    "                        value = num(statement[column][row_key]) - num(statement[column_1][row_key])\n",
    "                        \n",
    "                        if isinstance(value, float):\n",
    "                            value = round(value, 2)\n",
    "            \n",
    "                        fourth_quarter_values.append(str(value))\n",
    "\n",
    "                    statement[fourth_quarter_column_name] = fourth_quarter_values\n",
    " \n",
    "                    # Calculate correct values of\n",
    "                    # WeightedAverageNumberOfSharesOutstandingBasic = use value of annual result\n",
    "                    # WeightedAverageNumberOfDilutedSharesOutstanding = use value of annual result\n",
    "                    # EarningsPerShareBasic = NetIncomeLoss / WeightedAverageNumberOfSharesOutstandingBasic\n",
    "                    # EarningsPerShareDiluted = NetIncomeLoss / WeightedAverageNumberOfDilutedSharesOutstanding\n",
    "                    statement[fourth_quarter_column_name][\"WeightedAverageNumberOfSharesOutstandingBasic\"] = statement[column][\"WeightedAverageNumberOfSharesOutstandingBasic\"]\n",
    "                    statement[fourth_quarter_column_name][\"WeightedAverageNumberOfDilutedSharesOutstanding\"] = statement[column][\"WeightedAverageNumberOfDilutedSharesOutstanding\"]\n",
    "\n",
    "                    statement[fourth_quarter_column_name][\"EarningsPerShareBasic\"] = round(num(statement[fourth_quarter_column_name][\"NetIncomeLoss\"]) / \n",
    "                                                                                         num(statement[fourth_quarter_column_name][\"WeightedAverageNumberOfSharesOutstandingBasic\"]), 2)\n",
    "                    \n",
    "                    statement[fourth_quarter_column_name][\"EarningsPerShareDiluted\"] = round(num(statement[fourth_quarter_column_name][\"NetIncomeLoss\"]) / \n",
    "                                                                                         num(statement[fourth_quarter_column_name][\"WeightedAverageNumberOfDilutedSharesOutstanding\"]), 2)\n",
    "                \n",
    "    # sort columns\n",
    "    sorted_columns = sorted(statement.columns.values)\n",
    "    \n",
    "    return statement[sorted_columns]"
   ]
  },
  {
   "cell_type": "code",
   "execution_count": null,
   "metadata": {},
   "outputs": [],
   "source": [
    "statement = income_statement_final\n",
    "for column in statement:\n",
    "\n",
    "        # ['2018', '09', '30', '2019', '09', '28']\n",
    "        date_strings = [a for a in column.split('-')] \n",
    "\n",
    "        d0 = datetime.strptime(date_strings[0] + date_strings[1] + date_strings[2], '%Y%m%d')\n",
    "        d1 = datetime.strptime(date_strings[3] + date_strings[4] + date_strings[5], '%Y%m%d')\n",
    "\n",
    "        delta = d1 - d0\n",
    "\n",
    "        # is annual results column\n",
    "        if delta.days > 350:\n",
    "            for column_1 in statement:\n",
    "                date_strings_1 = [a for a in column_1.split('-')]\n",
    "\n",
    "                d1_0 = datetime.strptime(date_strings_1[0] + date_strings_1[1] + date_strings_1[2], '%Y%m%d')\n",
    "                d1_1 = datetime.strptime(date_strings_1[3] + date_strings_1[4] + date_strings_1[5], '%Y%m%d')\n",
    "\n",
    "                delta_1 = d1_1 - d1_0\n",
    "\n",
    "                # same starting month and 9-month results\n",
    "                # calculate 4th quarter\n",
    "                if d1_0 == d0 and delta_1.days > 200 and delta_1.days < 350:\n",
    "                    fourth_quarter_column_name = column_1[11:] + column[10:]\n",
    "\n",
    "                    fourth_quarter_values = []\n",
    "\n",
    "                    for row_key, row_value in statement[column].items():\n",
    "                        value = num(statement[column][row_key]) - num(statement[column_1][row_key])\n",
    "                        \n",
    "                        if isinstance(value, float):\n",
    "                            value = round(value, 2)\n",
    "            \n",
    "                        fourth_quarter_values.append(str(value))\n",
    "\n",
    "                    statement[fourth_quarter_column_name] = fourth_quarter_values\n",
    " \n",
    "                    # Calculate correct values of\n",
    "                    # WeightedAverageNumberOfSharesOutstandingBasic = use value of annual result\n",
    "                    # WeightedAverageNumberOfDilutedSharesOutstanding = use value of annual result\n",
    "                    # EarningsPerShareBasic = NetIncomeLoss / WeightedAverageNumberOfSharesOutstandingBasic\n",
    "                    # EarningsPerShareDiluted = NetIncomeLoss / WeightedAverageNumberOfDilutedSharesOutstanding\n",
    "                    statement[fourth_quarter_column_name][\"WeightedAverageNumberOfSharesOutstandingBasic\"] = statement[column][\"WeightedAverageNumberOfSharesOutstandingBasic\"]\n",
    "                    statement[fourth_quarter_column_name][\"WeightedAverageNumberOfDilutedSharesOutstanding\"] = statement[column][\"WeightedAverageNumberOfDilutedSharesOutstanding\"]\n",
    "\n",
    "                    statement[fourth_quarter_column_name][\"EarningsPerShareBasic\"] = round(num(statement[fourth_quarter_column_name][\"NetIncomeLoss\"]) / \n",
    "                                                                                         num(statement[fourth_quarter_column_name][\"WeightedAverageNumberOfSharesOutstandingBasic\"]), 2)\n",
    "                    \n",
    "                    statement[fourth_quarter_column_name][\"EarningsPerShareDiluted\"] = round(num(statement[fourth_quarter_column_name][\"NetIncomeLoss\"]) / \n",
    "                                                                                         num(statement[fourth_quarter_column_name][\"WeightedAverageNumberOfDilutedSharesOutstanding\"]), 2)"
   ]
  },
  {
   "cell_type": "code",
   "execution_count": null,
   "metadata": {},
   "outputs": [],
   "source": [
    "for column in income_statement_final.items():\n",
    "    display(column)"
   ]
  },
  {
   "cell_type": "markdown",
   "metadata": {},
   "source": [
    "In the last step we remove all columns not representing quarterly results."
   ]
  },
  {
   "cell_type": "code",
   "execution_count": null,
   "metadata": {},
   "outputs": [],
   "source": [
    "def only_quarterly_results(statement):\n",
    "    for column in statement:\n",
    "        # convert all strings to int\n",
    "        date_strings = [a for a in column.split('-')]\n",
    "\n",
    "        d0 = datetime.strptime(date_strings[0] + date_strings[1] + date_strings[2], '%Y%m%d')\n",
    "        d1 = datetime.strptime(date_strings[3] + date_strings[4] + date_strings[5], '%Y%m%d')\n",
    "        delta = d1 - d0\n",
    "\n",
    "        # column represents more timeframe longer than one quarter\n",
    "        if delta.days > 100:\n",
    "            statement = statement.drop(column, axis=1)\n",
    "    return statement"
   ]
  },
  {
   "cell_type": "markdown",
   "metadata": {},
   "source": [
    "## Plotting\n",
    "Let’s have fun and plot revenues, net income and earnings per share."
   ]
  },
  {
   "cell_type": "code",
   "execution_count": null,
   "metadata": {},
   "outputs": [],
   "source": [
    "%matplotlib inline\n",
    "import matplotlib.pyplot as plt\n",
    "import matplotlib.ticker as tick\n",
    "import numpy as np\n",
    "\n",
    "# custom y axis formatter\n",
    "def format_dollars(y, pos=None):\n",
    "    return int(y/1000000000)\n",
    "\n",
    "fig, ax = plt.subplots(1, 1, figsize=(8, 6))\n",
    "\n",
    "ax = qrt_income_statement.astype(float)\\\n",
    "                         .loc[\"NetIncomeLoss\"]\\\n",
    "                         .plot.line(legend=True)\n",
    "ax = qrt_income_statement.astype(float)\\\n",
    "                         .loc[\"RevenueFromContractWithCustomerExcludingAssessedTax\"]\\\n",
    "                         .plot.line(legend=True)\n",
    "\n",
    "ax.set_title('Quarterly Revenues and Net Income')\n",
    "\n",
    "ax.yaxis.set_major_formatter(tick.FuncFormatter(format_dollars))\n",
    "\n",
    "plt.ylabel('$ Billions')\n",
    "\n",
    "# show all quarter date ranges\n",
    "plt.xticks(ticks=np.arange(len(qrt_income_statement.columns)),\n",
    "           labels=qrt_income_statement.columns)\n",
    "\n",
    "# format x axis properly\n",
    "fig.autofmt_xdate()\n",
    "\n",
    "plt.show()"
   ]
  }
 ],
 "metadata": {
  "kernelspec": {
   "display_name": "base",
   "language": "python",
   "name": "python3"
  },
  "language_info": {
   "codemirror_mode": {
    "name": "ipython",
    "version": 3
   },
   "file_extension": ".py",
   "mimetype": "text/x-python",
   "name": "python",
   "nbconvert_exporter": "python",
   "pygments_lexer": "ipython3",
   "version": "3.12.2"
  }
 },
 "nbformat": 4,
 "nbformat_minor": 2
}
